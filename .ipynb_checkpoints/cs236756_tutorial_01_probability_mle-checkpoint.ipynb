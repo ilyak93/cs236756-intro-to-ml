{
 "cells": [
  {
   "cell_type": "markdown",
   "metadata": {
    "slideshow": {
     "slide_type": "slide"
    }
   },
   "source": [
    "# <img src=\"https://img.icons8.com/dusk/64/000000/mind-map.png\" style=\"height:50px;display:inline\"> CS 236756 - Technion - Intro to Machine Learning\n",
    "---\n",
    "\n",
    "#### Tal Daniel\n",
    "\n",
    "## Tutorial 01 - Probability Refresher and Maximum Likelihood Estimator (MLE)"
   ]
  },
  {
   "cell_type": "markdown",
   "metadata": {
    "slideshow": {
     "slide_type": "subslide"
    }
   },
   "source": [
    "### <img src=\"https://img.icons8.com/bubbles/50/000000/checklist.png\" style=\"height:50px;display:inline\"> Agenda\n",
    "---\n",
    "* [Probability Basics](#-Probability-Basics)\n",
    "* [Bayes Rule](#-Bayes-Rule)\n",
    "* [Expectation & Variance](#-Mean-&-Variance)\n",
    "* [Correlation](#-Correlation)\n",
    "* [Maximum Likelihood Estimator](#-Maximum-Likelihood-Estimation-(MLE))\n",
    "* [Recommended Videos](#-Recommended-Videos)\n",
    "* [Credits](#-Credits)"
   ]
  },
  {
   "cell_type": "code",
   "execution_count": 1,
   "metadata": {
    "slideshow": {
     "slide_type": "skip"
    }
   },
   "outputs": [],
   "source": [
    "# imports for the tutorial\n",
    "import numpy as np\n",
    "import pandas as pd\n",
    "import matplotlib.pyplot as plt\n",
    "%matplotlib notebook"
   ]
  },
  {
   "cell_type": "markdown",
   "metadata": {
    "slideshow": {
     "slide_type": "slide"
    }
   },
   "source": [
    "## <img src=\"https://img.icons8.com/office/80/000000/dice.png\" style=\"height:50px;display:inline\"> Probability Basics\n",
    "---\n",
    "We define the following:\n",
    "* **Experiment** - an experiment or trial is any procedure that can be infinitely repeated and has a well-defined set of possible outcomes, known as the sample space.\n",
    "    * Example: toss a coin twice\n",
    "* **Sample Space ($\\Omega$)** - possible outcomes of an experiment\n",
    "    * Example (coin toss): {HH, HT, TH, TT} (H = Heads, T = Tails)\n",
    "* **Event** - a subset of possible outcomes\n",
    "    * Example (coin toss): A = {HH} , B= {HT, TH}"
   ]
  },
  {
   "cell_type": "markdown",
   "metadata": {
    "slideshow": {
     "slide_type": "subslide"
    }
   },
   "source": [
    "* **Probability (of an event)** - a number assigned to an event\n",
    "    * Example (coin toss): $Pr(A) = \\frac{1}{4}$\n",
    "* **Axioms**:\n",
    "    1. $0 \\leq Pr(A) \\leq 1$\n",
    "    2. $Pr(\\Omega) = 1 $\n",
    "    3. $Pr(A \\cup B) = Pr(A) + Pr(B) - P(A \\cap B)$ (if $A, B$ are independent $P(A \\cap B) = 0$)"
   ]
  },
  {
   "cell_type": "markdown",
   "metadata": {
    "slideshow": {
     "slide_type": "subslide"
    }
   },
   "source": [
    "<img src=\"./assets/tut_01_intersection.jpg\">\n",
    "(image from <a href=\"http://tistats.com/probability-intersection-ti-84/\">tistats.com</a>)"
   ]
  },
  {
   "cell_type": "markdown",
   "metadata": {
    "slideshow": {
     "slide_type": "subslide"
    }
   },
   "source": [
    "#### Summary\n",
    "\n",
    "\n",
    "| Term | Usually donated by | Definition | Example  |\n",
    "| --- | --- | --- | --- |\n",
    "| **Experiment** | | <center>any procedure that can be infinitely repeated and has a well-defined set of possible outcomes </center>|<center> toss a coin twice </center> |\n",
    "| **Sample** | $\\omega$ |<center> A single outcome of an experiment </center>|<center>  A single outcome. for example: $H$ </center>|\n",
    "| **Sample Space** | $\\Omega$ | <center>The set of all possible outcomes </center>| <center> The set of all possible outcomes, for example: {HH, HT, TH, TT} </center>|\n",
    "| **Event** | $A$ | <center>a subset of possible outcomes </center>| <center>A = {HH} , B= {HT, TH}  <br> An empty set  $\\emptyset$ <br> The entire set (any outcome): $\\Omega$ </center>|\n",
    "| **Event Space** | $\\mathcal{F}$ | <center>The space of all possible events </center>| <center> $\\{HH\\}, \\{HT\\}, \\{TH\\}, \\{TT\\}, \\{\\emptyset\\}, \\{\\Omega\\}$ </center> |\n",
    "| **Probability** | P, Pr |<center> A function $P:\\mathcal{F}\\rightarrow\\left[0,1\\right]$ which assigns a probability to each event </center>| <center> $P(HT) = \\frac{1}{4}$<br> $P(\\emptyset)=0$<br>$P(\\Omega)=1$ </center>|\n"
   ]
  },
  {
   "cell_type": "code",
   "execution_count": 3,
   "metadata": {
    "slideshow": {
     "slide_type": "subslide"
    }
   },
   "outputs": [
    {
     "name": "stdout",
     "output_type": "stream",
     "text": [
      "first toss result:  T\n",
      "second toss result:  T\n"
     ]
    }
   ],
   "source": [
    "possible_outcomes = ['H', 'T']\n",
    "probabilities = [0.5, 0.5]\n",
    "# toss a coin twice\n",
    "first_toss = np.random.choice(possible_outcomes, p=probabilities)\n",
    "print(\"first toss result: \", first_toss)\n",
    "second_toss = np.random.choice(possible_outcomes, p=probabilities)\n",
    "print(\"second toss result: \", second_toss)"
   ]
  },
  {
   "cell_type": "markdown",
   "metadata": {
    "slideshow": {
     "slide_type": "slide"
    }
   },
   "source": [
    "### <img src=\"https://img.icons8.com/dusk/64/000000/task.png\" style=\"height:50px;display:inline\"> Exercise 1 - Dice Probability\n",
    "---\n",
    "Find the proability of getting an even number **or** a number that is a multiple of 3."
   ]
  },
  {
   "cell_type": "markdown",
   "metadata": {
    "slideshow": {
     "slide_type": "subslide"
    }
   },
   "source": [
    "### <img src=\"https://img.icons8.com/dusk/64/000000/idea.png\" style=\"height:50px;display:inline\"> Solution 1\n",
    "---\n",
    "* $S = \\{1, 2, 3, 4, 5, 6\\}$\n",
    "* $ P(A=even) = \\frac{3}{6} = 0.5$\n",
    "* $ P(B=\\textit{multiple of 3}) = \\frac{2}{6} = \\frac{1}{3}$\n",
    "* $ P(A \\cap B) = \\frac{1}{6}$, since $ A \\cap B = \\{6\\}$\n",
    "* $\\rightarrow P(A \\cup B) = \\frac{3}{6} + \\frac{2}{6} - \\frac{1}{6} = \\frac{4}{6} = \\frac{2}{3} $\n",
    "\n",
    "Why is it different than just giving the probability of getting a 6? Because we ask about 2 different events (even number and a multiple of 3), and we ask for the union of 2 events."
   ]
  },
  {
   "cell_type": "markdown",
   "metadata": {
    "slideshow": {
     "slide_type": "slide"
    }
   },
   "source": [
    "## <img src=\"https://img.icons8.com/clouds/64/000000/handshake.png\" style=\"height:50px;display:inline\"> Joint Probability\n",
    "---\n",
    "* **Joint Probability - Pr(A,B)** - the probability the both event A and event B happen ($Pr(A,B) \\geq 0$)\n",
    "* **Marginal Distributions** -\n",
    "    * $\\sum_i Pr(A_i, B_j) = Pr(B_j)$\n",
    "    * $\\sum_j Pr(A_i, B_j) = Pr(A_i)$\n",
    "* **Law of Total Probability** - suppose the events $B_1, B_2, ..., B_k$ are mutually exclusive (intersection of all events is zero) and form a partition of the sample space (i.e. one of them must occur), then for any event $Pr(A)$: $$Pr(A) = \\sum_{j=1}^k Pr(A|B_j)P(B_j)$$"
   ]
  },
  {
   "cell_type": "markdown",
   "metadata": {
    "slideshow": {
     "slide_type": "subslide"
    }
   },
   "source": [
    "* **Conditioning** - if A and B are events and $Pr(B) > 0$, the **conditional probability of A given B** is: $Pr(A|B)$\n",
    "    * $Pr(A|B) = \\frac{P(A,B)}{P(B)}$\n",
    "    * $\\rightarrow Pr(A,B) = Pr(A|B)Pr(B)$\n",
    "    * **the chain rule** - in the general case: $$Pr(\\bigcap_i A_i) = \\prod_{i=n}^1 Pr(A_i|A_{i-1}, ..., A_1)$$\n",
    "        * $Pr(A,B,C) = P(A|B,C)P(B,C) = P(A|B,C)P(B|C)P(C)$\n",
    "        * Is that the only option? No! $Pr(A,B,C) = P(C|A,B)P(A,B) = P(C|A,B)P(B|A)P(A)$"
   ]
  },
  {
   "cell_type": "markdown",
   "metadata": {
    "slideshow": {
     "slide_type": "subslide"
    }
   },
   "source": [
    "* **Independence** - \n",
    "    * Two events A and B are independent iff\n",
    "        * $Pr(A|B) = Pr(A)$\n",
    "        * $Pr(A,B) = Pr(A)Pr(B)$\n",
    "    * For a set of events $\\{A_i\\}$, independence:\n",
    "        * $Pr(\\bigcap_i A_i) = \\prod_i Pr(A_i)$"
   ]
  },
  {
   "cell_type": "markdown",
   "metadata": {
    "slideshow": {
     "slide_type": "subslide"
    }
   },
   "source": [
    "* **Conditional Independence** - Events A and B are conditionally independent given C:\n",
    "    * $Pr(A,B|C) = Pr(A|C)Pr(B|C)$\n",
    "    * $Pr(A|B,C) = Pr(A|C)$"
   ]
  },
  {
   "cell_type": "markdown",
   "metadata": {
    "slideshow": {
     "slide_type": "slide"
    }
   },
   "source": [
    "## <img src=\"https://img.icons8.com/dusk/64/000000/variable.png\" style=\"height:50px;display:inline\"> Continuous Random Variables\n",
    "---\n",
    "Assume $X$ is a continuous random variable. We define the following:\n",
    "* **Cumulative Distribution Function (CDF)** - $F(x) = P(X \\leq x)$\n",
    "    * The CDF is monotonically non-decreasing\n",
    "    * $ P(a < X \\leq b) = F(b) - F(a)$\n",
    "    * $\\lim_{a\\to\\infty} F_x(a) = 1$\n",
    "    * $\\lim_{a\\to 0} F_x(a) = 0$"
   ]
  },
  {
   "cell_type": "markdown",
   "metadata": {
    "slideshow": {
     "slide_type": "subslide"
    }
   },
   "source": [
    "* **Probability Density Function (PDF)** - $f(x) = \\frac{d}{dx}F(x)$\n",
    "    * $P(a < X \\leq b) = \\int_a^b f(x)dx $\n",
    "* All we have seen for **discrete** variables hold for **continuous** by replacing the sum with an integral\n",
    "* Note that unlike the discrete case the PDF can be larger than one, i.e. $p(x) > 0$ but is not upper bounded. In order for the integral of the PDF to be smaller than 1, the PDF can be larger than one, but not for long intervals (recall that the CDF is just the area under the PDF)."
   ]
  },
  {
   "cell_type": "code",
   "execution_count": 3,
   "metadata": {
    "slideshow": {
     "slide_type": "skip"
    }
   },
   "outputs": [],
   "source": [
    "def plot_normal_pdf_cdf(mu=0, sigma=1):\n",
    "    x = np.linspace(-10, 10, 1000)\n",
    "    x_pdf = (1 / np.sqrt(2 * np.pi * sigma ** 2)) * np.exp(- (x - mu) ** 2 / (2 * sigma ** 2))\n",
    "    x_cdf = np.cumsum(x_pdf) / (len(x) / (np.max(x) - np.min(x))) # normalization\n",
    "    fig = plt.figure(figsize=(8,5))\n",
    "    ax = fig.add_subplot(1,1,1)\n",
    "    ax.plot(x, x_pdf, label='PDF')\n",
    "    ax.plot(x, x_cdf, label='CDF')\n",
    "    ax.grid()\n",
    "    ax.legend()\n",
    "    ax.set_xlabel('x')\n",
    "    ax.set_title('PDF and CDF of Normal Distribution')"
   ]
  },
  {
   "cell_type": "code",
   "execution_count": 4,
   "metadata": {
    "slideshow": {
     "slide_type": "subslide"
    }
   },
   "outputs": [
    {
     "data": {
      "image/png": "[encoded data removed]",
      "text/plain": [
       "<Figure size 576x360 with 1 Axes>"
      ]
     },
     "metadata": {
      "needs_background": "light"
     },
     "output_type": "display_data"
    }
   ],
   "source": [
    "plot_normal_pdf_cdf(mu=0, sigma=1)"
   ]
  },
  {
   "cell_type": "code",
   "execution_count": 5,
   "metadata": {
    "slideshow": {
     "slide_type": "subslide"
    }
   },
   "outputs": [
    {
     "data": {
      "image/png": "[encoded data removed]",
      "text/plain": [
       "<Figure size 576x360 with 1 Axes>"
      ]
     },
     "metadata": {
      "needs_background": "light"
     },
     "output_type": "display_data"
    }
   ],
   "source": [
    "plot_normal_pdf_cdf(mu=0, sigma=0.3)\n",
    "# notice how the pdf can be larger than 1 "
   ]
  },
  {
   "cell_type": "markdown",
   "metadata": {
    "slideshow": {
     "slide_type": "slide"
    }
   },
   "source": [
    "## <img src=\"https://img.icons8.com/dusk/64/000000/b.png\" style=\"height:50px;display:inline\"> Bayes Rule\n",
    "---\n",
    "Suppose that the events $B_1, ..., B_k$ are mutually exclusive and form a partiotion of the sample space (i.e. one of them must occur), then for any event $Pr(A)$, **Bayes Rule**:\n",
    "$$Pr(B_i|A) = \\frac{Pr(A,B_i)}{Pr(A)} = \\frac{Pr(A|B_i)Pr(B_i)}{Pr(A)} = \\frac{Pr(A|B_i)Pr(B_i)}{\\sum_{j=1}^k Pr(A|B_j)Pr(B_j)}$$"
   ]
  },
  {
   "cell_type": "markdown",
   "metadata": {
    "slideshow": {
     "slide_type": "subslide"
    }
   },
   "source": [
    "#### <img src=\"https://img.icons8.com/dusk/64/000000/high-priority.png\" style=\"height:50px;display:inline\"> REMEMBER THESE!\n",
    "* **Posterior Distribution** - $Pr(B_i|A)$\n",
    "* **Liklihood Distribution** - $Pr(A|B_i)$\n",
    "* **Prior Distribution** - $Pr(B_i)$\n",
    "* **Evidence** - $Pr(A)$"
   ]
  },
  {
   "cell_type": "markdown",
   "metadata": {
    "slideshow": {
     "slide_type": "subslide"
    }
   },
   "source": [
    "<img src=\"./assets/tut_01_bayes_rule.png\" style=\"height:250px\">\n",
    "\n",
    "* <a href=\"https://www.norwegiancreations.com/2018/10/bayes-rule-and-the-monty-hall-problem/\">Image Source</a>"
   ]
  },
  {
   "cell_type": "markdown",
   "metadata": {
    "slideshow": {
     "slide_type": "subslide"
    }
   },
   "source": [
    "### <img src=\"https://img.icons8.com/dusk/64/000000/classroom.png\" style=\"height:50px;display:inline\"> Example \n",
    "---\n",
    "Given a dataset where each sample is a male or a female with their height, what is the probability that given a certain height, that person is a female, that is, calculate: $Pr(\\textit{Gender} = \\textit{Female} | \\textit{Height} = X cm)$?"
   ]
  },
  {
   "cell_type": "code",
   "execution_count": 6,
   "metadata": {
    "slideshow": {
     "slide_type": "subslide"
    }
   },
   "outputs": [
    {
     "name": "stdout",
     "output_type": "stream",
     "text": [
      "Number of rows in the dataset: 10000\n"
     ]
    },
    {
     "data": {
      "text/html": [
       "<div>\n",
       "<style scoped>\n",
       "    .dataframe tbody tr th:only-of-type {\n",
       "        vertical-align: middle;\n",
       "    }\n",
       "\n",
       "    .dataframe tbody tr th {\n",
       "        vertical-align: top;\n",
       "    }\n",
       "\n",
       "    .dataframe thead th {\n",
       "        text-align: right;\n",
       "    }\n",
       "</style>\n",
       "<table border=\"1\" class=\"dataframe\">\n",
       "  <thead>\n",
       "    <tr style=\"text-align: right;\">\n",
       "      <th></th>\n",
       "      <th>Gender</th>\n",
       "      <th>Height</th>\n",
       "    </tr>\n",
       "  </thead>\n",
       "  <tbody>\n",
       "    <tr>\n",
       "      <td>0</td>\n",
       "      <td>Male</td>\n",
       "      <td>187.571423</td>\n",
       "    </tr>\n",
       "    <tr>\n",
       "      <td>1</td>\n",
       "      <td>Male</td>\n",
       "      <td>174.706036</td>\n",
       "    </tr>\n",
       "    <tr>\n",
       "      <td>2</td>\n",
       "      <td>Male</td>\n",
       "      <td>188.239668</td>\n",
       "    </tr>\n",
       "    <tr>\n",
       "      <td>3</td>\n",
       "      <td>Male</td>\n",
       "      <td>182.196685</td>\n",
       "    </tr>\n",
       "    <tr>\n",
       "      <td>4</td>\n",
       "      <td>Male</td>\n",
       "      <td>177.499761</td>\n",
       "    </tr>\n",
       "    <tr>\n",
       "      <td>5</td>\n",
       "      <td>Male</td>\n",
       "      <td>170.822660</td>\n",
       "    </tr>\n",
       "    <tr>\n",
       "      <td>6</td>\n",
       "      <td>Male</td>\n",
       "      <td>174.714106</td>\n",
       "    </tr>\n",
       "    <tr>\n",
       "      <td>7</td>\n",
       "      <td>Male</td>\n",
       "      <td>173.605229</td>\n",
       "    </tr>\n",
       "    <tr>\n",
       "      <td>8</td>\n",
       "      <td>Male</td>\n",
       "      <td>170.228132</td>\n",
       "    </tr>\n",
       "    <tr>\n",
       "      <td>9</td>\n",
       "      <td>Male</td>\n",
       "      <td>161.179495</td>\n",
       "    </tr>\n",
       "  </tbody>\n",
       "</table>\n",
       "</div>"
      ],
      "text/plain": [
       "  Gender      Height\n",
       "0   Male  187.571423\n",
       "1   Male  174.706036\n",
       "2   Male  188.239668\n",
       "3   Male  182.196685\n",
       "4   Male  177.499761\n",
       "5   Male  170.822660\n",
       "6   Male  174.714106\n",
       "7   Male  173.605229\n",
       "8   Male  170.228132\n",
       "9   Male  161.179495"
      ]
     },
     "execution_count": 6,
     "metadata": {},
     "output_type": "execute_result"
    }
   ],
   "source": [
    "# load the data\n",
    "dataset = pd.read_csv('./datasets/heights_dataset.csv')\n",
    "# use only the heights\n",
    "dataset = dataset.drop('Weight', axis=1)\n",
    "# inch -> cm\n",
    "dataset['Height'] = dataset['Height'] * 2.54\n",
    "## print the number of rows in the data set\n",
    "number_of_rows = len(dataset)\n",
    "print('Number of rows in the dataset: {}'.format(number_of_rows))\n",
    "## show the first 10 rows\n",
    "dataset.head(10)"
   ]
  },
  {
   "cell_type": "markdown",
   "metadata": {
    "slideshow": {
     "slide_type": "slide"
    }
   },
   "source": [
    "### <img src=\"https://img.icons8.com/dusk/64/000000/maximum-value.png\" style=\"height:50px;display:inline\"> Histogram\n",
    "---\n",
    "* A histogram is an accurate representation of the distribution of numerical data. \n",
    "* It is an estimate of the probability distribution (PDF) of a continuous variable. \n",
    "* To construct a histogram, the first step is to \"bin\" (or \"bucket\") the range of values—that is, divide the entire range of values into a series of intervals—and then count how many values fall into each interval. \n",
    "    * The bins are usually specified as consecutive, non-overlapping intervals of a variable. \n",
    "    * The bins (intervals) must be adjacent, and are often (but are not required to be) of equal size."
   ]
  },
  {
   "cell_type": "code",
   "execution_count": 7,
   "metadata": {
    "slideshow": {
     "slide_type": "subslide"
    }
   },
   "outputs": [
    {
     "data": {
      "text/plain": [
       "Text(0.5, 0, 'Height(cm)')"
      ]
     },
     "execution_count": 7,
     "metadata": {},
     "output_type": "execute_result"
    },
    {
     "data": {
      "image/png": "[encoded data removed]",
      "text/plain": [
       "<Figure size 432x288 with 1 Axes>"
      ]
     },
     "metadata": {
      "needs_background": "light"
     },
     "output_type": "display_data"
    }
   ],
   "source": [
    "# let's plot the histogram\n",
    "figure = plt.figure()\n",
    "ax = figure.add_subplot(1,1,1)\n",
    "male_ds = dataset[:5000].rename(index=str, columns={\"Height\": \"Male\"}).plot.hist(ax=ax)\n",
    "female_ds = dataset[5000:].rename(index=str, columns={\"Height\": \"Female\"}).plot.hist(ax=ax)\n",
    "ax.grid()\n",
    "ax.set_xlabel('Height(cm)')"
   ]
  },
  {
   "cell_type": "markdown",
   "metadata": {
    "slideshow": {
     "slide_type": "subslide"
    }
   },
   "source": [
    "* Assume that the height is a *discrete* variable (we use quantization on the dataset, only integers).\n",
    "* $Pr(Male) = Pr(Female) = 0.5$\n",
    "* $Pr(170cm|Female) \\approx \\frac{800}{5000} = 0.16$ (in the presentation $0.1$)\n",
    "* $Pr(170cm|Male) \\approx \\frac{1300}{5000} = 0.26$ (in the presentation $0.3$)\n",
    "* Using **Bayes rule**: $$ Pr(Female|170cm) = \\frac{Pr(170cm|Female)Pr(Female)}{Pr(170cm)} = \\frac{Pr(170cm|Female)Pr(Female)}{Pr(170cm|Male)Pr(Male) + Pr(170cm|Female)Pr(Female)} = \\frac{0.16 * 0.5}{0.16 * 0.5 + 0.26 * 0.5} = 0.38$$ ($0.25$ in the presentation)"
   ]
  },
  {
   "cell_type": "markdown",
   "metadata": {
    "slideshow": {
     "slide_type": "slide"
    }
   },
   "source": [
    "## <img src=\"https://img.icons8.com/dusk/64/000000/statistics.png\" style=\"height:50px;display:inline\"> Mean & Variance\n",
    "---\n",
    "### Mean (Expectation) - $\\mu$\n",
    "---\n",
    "The mean is the proability weighted average of all possible values.\n",
    "* Discrete Variables:\n",
    "    * $\\mathbb{E}[X] = \\sum_{x \\in X} xp(x)$\n",
    "    * $\\mathbb{E}[f(X)] = \\sum_{x \\in X} f(x)p(x)$\n",
    "* Continuous Variables:\n",
    "    * $\\mathbb{E}[X] = \\int_x xp(x)$\n",
    "    * $\\mathbb{E}[f(X)] = \\int_{x \\in X} f(x)p(x)$\n",
    "* Example: the mean of a fair six-sided dice: $$\\mathbb{E}[X] = 1*\\frac{1}{6} + 2*\\frac{1}{6} + 3*\\frac{1}{6} + 4*\\frac{1}{6} + 5*\\frac{1}{6} + 6*\\frac{1}{6} = 3.5$$"
   ]
  },
  {
   "cell_type": "markdown",
   "metadata": {
    "slideshow": {
     "slide_type": "subslide"
    }
   },
   "source": [
    "* **The Law of Total Expectation (Smoothing Theorem)**: $$\\mathbb{E}[X] = \\mathbb{E}\\big[\\mathbb{E}[X|Y] \\big] $$\n",
    "    * Proof: $$\\mathbb{E}\\big[\\mathbb{E}[X|Y] \\big] = \\mathbb{E}\\big[ \\sum_x x \\cdot P(X=x|Y) \\big] = \\sum_y \\big[ \\sum_x x \\cdot P(X=x|Y) \\big] \\cdot P(Y=y)$$ $$ = \\sum_y \\big[ \\sum_x x \\cdot P(X=x|Y) \\cdot P(Y=y)\\big] = \\sum_y \\big[ \\sum_x x \\cdot P(X=x, Y=y)\\big] $$ $$ = \\sum_x x\\cdot \\big[ \\sum_y \\cdot P(X=x, Y=y)\\big] = \\sum_x x\\cdot \\big[P(X=x)\\big] = \\mathbb{E}[X]$$\n",
    "    * Example: Suppose that two factories supply light bulbs to the market. Factory X's bulbs work for an average of 5000 hours, whereas factory Y's bulbs work for an average of 4000 hours. It is known that factory X supplies 60% of the total bulbs available. What is the expected length of time that a purchased bulb will work for? $$\\mathbb{E}[L] = \\mathbb{E}\\big[\\mathbb{E}[L|factory] \\big] = \\mathbb{E}[L|X] \\cdot P(X) + \\mathbb{E}[L|Y] \\cdot P(Y) = 5000 \\cdot 0.6 + 4000 \\cdot 0.4 = 4600$$"
   ]
  },
  {
   "cell_type": "markdown",
   "metadata": {
    "slideshow": {
     "slide_type": "subslide"
    }
   },
   "source": [
    "### Variance - $\\sigma^2$\n",
    "---\n",
    "The variance is a measure of the \"spread\" of the distribution (can also be considered as confidence).\n",
    "\n",
    "* $var[X] = \\mathbb{E}[(X - \\mu)^2] = \\sum (x-\\mu)^2 p(x) = \\sum x^2 p(x) + \\mu^2 \\sum p(x) -2 \\mu \\sum x p(x) =  \\mathbb{E}[X^2] - \\mu^2$\n",
    "* **The Standard Deviation** - $std[X] = \\sqrt{var[X]}$\n",
    "* Example: the variance of a fair six-sided dice: $$var[X] = \\sum_{i=1}^6 \\frac{1}{6} (i-3.5)^2$$ $$ E[X^2] = 1^2 *\\frac{1}{6} + 2^2 *\\frac{1}{6} + 3^2 *\\frac{1}{6} + 4^2*\\frac{1}{6} + 5^2*\\frac{1}{6} + 6^2*\\frac{1}{6} = \\frac{91}{6} $$ $$ var[X] = E[X^2] -\\mu ^2 = \\frac{91}{6} - 3.5^2 \\approx 2.92 $$"
   ]
  },
  {
   "cell_type": "markdown",
   "metadata": {
    "slideshow": {
     "slide_type": "subslide"
    }
   },
   "source": [
    "### <img src=\"https://img.icons8.com/dusk/64/000000/classroom.png\" style=\"height:50px;display:inline\"> Example cont.\n",
    "---\n",
    "What is the mean and variance of the heights of males? females? combined together?"
   ]
  },
  {
   "cell_type": "code",
   "execution_count": 8,
   "metadata": {
    "slideshow": {
     "slide_type": "subslide"
    }
   },
   "outputs": [
    {
     "name": "stdout",
     "output_type": "stream",
     "text": [
      "the mean of males' height is: 175.327 cm\n",
      "the variance of males' height is: 52.896 cm^2\n",
      "the std of males' height is: 7.273 cm\n"
     ]
    }
   ],
   "source": [
    "# easy with pandas\n",
    "print(\"the mean of males' height is: {:.3f} cm\".format(dataset[:5000].Height.mean()))\n",
    "print(\"the variance of males' height is: {:.3f} cm^2\".format(dataset[:5000].Height.var()))\n",
    "print(\"the std of males' height is: {:.3f} cm\".format(dataset[:5000].Height.std()))"
   ]
  },
  {
   "cell_type": "code",
   "execution_count": 9,
   "metadata": {
    "slideshow": {
     "slide_type": "subslide"
    }
   },
   "outputs": [
    {
     "name": "stdout",
     "output_type": "stream",
     "text": [
      "the mean of females' height is: 161.820 cm\n",
      "the variance of females' height is: 46.903 cm^2\n",
      "the std of females' height is: 6.849 cm\n"
     ]
    }
   ],
   "source": [
    "print(\"the mean of females' height is: {:.3f} cm\".format(dataset[5000:].Height.mean()))\n",
    "print(\"the variance of females' height is: {:.3f} cm^2\".format(dataset[5000:].Height.var()))\n",
    "print(\"the std of females' height is: {:.3f} cm\".format(dataset[5000:].Height.std()))"
   ]
  },
  {
   "cell_type": "code",
   "execution_count": 10,
   "metadata": {
    "slideshow": {
     "slide_type": "subslide"
    }
   },
   "outputs": [
    {
     "name": "stdout",
     "output_type": "stream",
     "text": [
      "the mean of total height is: 168.574 cm\n",
      "the variance of total height is: 95.506 cm^2\n",
      "the std of total' height is: 9.773 cm\n"
     ]
    }
   ],
   "source": [
    "print(\"the mean of total height is: {:.3f} cm\".format(dataset.Height.mean()))\n",
    "print(\"the variance of total height is: {:.3f} cm^2\".format(dataset.Height.var()))\n",
    "print(\"the std of total' height is: {:.3f} cm\".format(dataset.Height.std()))"
   ]
  },
  {
   "cell_type": "markdown",
   "metadata": {
    "slideshow": {
     "slide_type": "slide"
    }
   },
   "source": [
    "## <img src=\"https://img.icons8.com/dusk/64/000000/positive-dynamic.png\" style=\"height:50px;display:inline\"> Correlation\n",
    "---\n",
    "Correlation is a measure of linear dependency between two variables.\n",
    "\n",
    "We define **correlation** between two Random Variables (RV) as $\\sigma_{xy}$:\n",
    "* $\\sigma_{xy} = Cov(X,Y) = \\mathbb{E}[(X - \\mu_x)(Y - \\mu_y)] = \\mathbb{E}[XY] - \\mu_x \\mu_y$\n",
    "* $X, Y$ are **uncorrelated** if $\\sigma_{xy} = 0 \\leftrightarrow \\mu_{xy} = \\mu_x \\mu_y$"
   ]
  },
  {
   "cell_type": "markdown",
   "metadata": {
    "slideshow": {
     "slide_type": "subslide"
    }
   },
   "source": [
    "<img src=\"https://img.icons8.com/dusk/64/000000/high-priority.png\" style=\"height:20px;display:inline\"> **REMEMBER**: \n",
    "\n",
    "Independence $\\rightarrow$ Uncorrelated **BUT** Uncorrelated $\\nrightarrow$ Independence"
   ]
  },
  {
   "cell_type": "markdown",
   "metadata": {
    "slideshow": {
     "slide_type": "subslide"
    }
   },
   "source": [
    "### Pearson's Correlation Coefficient (Pearson's r)\n",
    "---\n",
    "It is a measure of linear correlation between two variables X and Y, denoted $\\rho$ or $r_{xy}$:\n",
    "* $\\rho = r_{xy} = \\frac{\\sigma_{xy}}{\\sigma_x \\sigma_y}$\n",
    "* From **Cauchy-Schwarz** inequality: $$-1 \\leq \\rho \\leq 1$$\n",
    "    * $\\rho = 0$ - no correlation\n",
    "    * $\\rho = 1$ - positive linear correlation\n",
    "    * $\\rho = -1$ - negative linear correlation\n",
    "    * Reminder: Cauchy-Schwarz inequality:$|\\langle x,y \\rangle|^2 \\leq \\langle x,x \\rangle \\cdot \\langle y,y \\rangle$, equality iff $x,y$ are linealy dependent.\n",
    "        * $\\mathbb{E}(X,Y) = \\langle X, Y \\rangle \\rightarrow |\\mathbb{E}(X,Y)|^2 \\leq \\mathbb{E}(X^2) \\mathbb{E}(Y^2) $\n",
    "        * $$|Cov(X,Y)|^2 = |\\mathbb{E}[(X-\\mu_x) (Y-\\mu_y)]|^2  = |\\langle X-\\mu_x,  Y-\\mu_y \\rangle|^2 \\leq \\langle X-\\mu_x,  X-\\mu_x \\rangle \\cdot \\langle Y-\\mu_y,  Y-\\mu_y \\rangle$$ $$ = \\mathbb{E}[(X - \\mu_x)^2] \\mathbb{E}[(Y - \\mu_y)^2] = Var(X) Var(Y) $$"
   ]
  },
  {
   "cell_type": "markdown",
   "metadata": {
    "slideshow": {
     "slide_type": "subslide"
    }
   },
   "source": [
    "Illustration:\n",
    "<img src=\"https://upload.wikimedia.org/wikipedia/commons/3/34/Correlation_coefficient.png\" style=\"height:300px\">\n",
    "By <a href=\"//commons.wikimedia.org/wiki/User:Kiatdd\" title=\"User:Kiatdd\">Kiatdd</a> - <span class=\"int-own-work\" lang=\"en\">Own work</span>, <a href=\"https://creativecommons.org/licenses/by-sa/3.0\" title=\"Creative Commons Attribution-Share Alike 3.0\">CC BY-SA 3.0</a>, <a href=\"https://commons.wikimedia.org/w/index.php?curid=37108966\">Link</a>"
   ]
  },
  {
   "cell_type": "markdown",
   "metadata": {
    "slideshow": {
     "slide_type": "subslide"
    }
   },
   "source": [
    "#### <img src=\"https://img.icons8.com/dusk/64/000000/classroom.png\" style=\"height:50px;display:inline\"> Example \n",
    "---\n",
    "* Let $X \\in \\{-1,0,1\\} \\sim U(\\frac{1}{3})$, $Y=X^2$\n",
    "* $X,Y$ are clearly dependent **BUT**:\n",
    "    * $\\mu_x = 0$, $\\mu_y = \\frac{2}{3}$\n",
    "    * $\\mu_{xy} = \\mathbb{E}[X^3] = 0$\n",
    "    * $Cov(X,Y) = \\mu_{xy} - \\mu_x \\mu_y = 0 - 0 * \\frac{2}{3} = 0$"
   ]
  },
  {
   "cell_type": "markdown",
   "metadata": {
    "slideshow": {
     "slide_type": "subslide"
    }
   },
   "source": [
    "### Correlation DOES NOT Imply Causation\n",
    "Below are examples (from the presentation) that show correlated variables, but they are not neccessariy caused by one another:\n",
    "\n",
    "<img src=\"./assets/tut_01_cor_1.jpg\" style=\"height:300px\">"
   ]
  },
  {
   "cell_type": "markdown",
   "metadata": {
    "slideshow": {
     "slide_type": "subslide"
    }
   },
   "source": [
    "<img src=\"./assets/tut_01_cor_2.jpg\" style=\"height:300px\">"
   ]
  },
  {
   "cell_type": "markdown",
   "metadata": {
    "slideshow": {
     "slide_type": "slide"
    }
   },
   "source": [
    "### Outliers\n",
    "---\n",
    "* In statistics, an outlier is an observation point that is distant from other observations. \n",
    "* An outlier may be due to variability in the measurement or it may indicate experimental error. The latter are sometimes excluded from the data set. \n",
    "* An outlier can cause serious problems in statistical analyses."
   ]
  },
  {
   "cell_type": "markdown",
   "metadata": {
    "slideshow": {
     "slide_type": "subslide"
    }
   },
   "source": [
    "#### <img src=\"https://img.icons8.com/dusk/64/000000/classroom.png\" style=\"height:50px;display:inline\"> Example\n",
    "---\n",
    "If one is calculating the average temperature of 10 objects in a room, and nine of them are between 20 and 25 degrees Celsius, but an oven is at 175 °C, the median of the data will be between 20 and 25 °C but the mean temperature will be between 35.5 and 40 °C. In this case, the median better reflects the temperature of a randomly sampled object (but not the temperature in the room) than the mean. Naively interpreting the mean as \"a typical sample\", equivalent to the median, is incorrect. As illustrated in this case, outliers may indicate data points that belong to a different population than the rest of the sample set."
   ]
  },
  {
   "cell_type": "markdown",
   "metadata": {
    "slideshow": {
     "slide_type": "subslide"
    }
   },
   "source": [
    "### Correlation - Sensitive to Ouliers\n",
    "All the examples (from the presentation) below share the same Pearson's r:\n",
    "<img src=\"./assets/tut_01_cor_3.JPG\" style=\"height:400px\">"
   ]
  },
  {
   "cell_type": "markdown",
   "metadata": {
    "slideshow": {
     "slide_type": "slide"
    }
   },
   "source": [
    "## <img src=\"https://img.icons8.com/ultraviolet/80/000000/heat-map.png\" style=\"height:50px;display:inline\"> Vectors of Random Variables\n",
    "---\n",
    "* Let $\\overline{X}$ be a d-dimensional **random** vector\n",
    "    * $\\overline{X} = [x_1, x_2, ..., x_d]$\n",
    "* The d-dimensional **mean vector $\\overline{\\mu}$** is:\n",
    "    * $\\overline{\\mu} = \\mathbb{E}[\\overline{X}] = [\\mathbb{E}[x_1], \\mathbb{E}[x_2], ..., \\mathbb{E}[x_d]] = [\\mu_1, \\mu_2, ..., \\mu_d]$"
   ]
  },
  {
   "cell_type": "markdown",
   "metadata": {
    "slideshow": {
     "slide_type": "subslide"
    }
   },
   "source": [
    "* The **covariance matrix $\\Sigma$** is defined as the (**square**) matrix, where each component $\\sigma_{ij}$ is the covariance of $x_i, x_j$:\n",
    "    * $\\sigma_{ij} = \\mathbb{E}[(x_i - \\mu_i)(x_j - \\mu_j)]$\n",
    "    * $$\\Sigma = \n",
    " \\begin{pmatrix}\n",
    "  \\sigma_1 ^2 & \\sigma_{1,2} & \\cdots & \\sigma_{1,d} \\\\\n",
    "  \\sigma_{2,1} & \\sigma_2^2 & \\cdots & \\sigma_{2,d} \\\\\n",
    "  \\vdots  & \\vdots  & \\ddots & \\vdots  \\\\\n",
    "  \\sigma_{d,1} & \\sigma_{d,2} & \\cdots & \\sigma_d^2 \n",
    " \\end{pmatrix}$$\n",
    " "
   ]
  },
  {
   "cell_type": "markdown",
   "metadata": {
    "slideshow": {
     "slide_type": "slide"
    }
   },
   "source": [
    "## <img src=\"https://img.icons8.com/office/80/000000/normal-distribution-histogram.png\" style=\"height:50px;display:inline\"> Multivariate Normal Distribution\n",
    "---\n",
    "* $ x \\sim N_d (\\mu, \\Sigma)$\n",
    "* $$f(x) = \\frac{1}{(2\\pi)^{\\frac{d}{2}} |\\Sigma|^{\\frac{1}{2}}} e^{- \\frac{1}{2}(x - \\mu)^{T} \\Sigma^{-1} (x - \\mu)}$$"
   ]
  },
  {
   "cell_type": "code",
   "execution_count": 11,
   "metadata": {
    "slideshow": {
     "slide_type": "subslide"
    }
   },
   "outputs": [
    {
     "name": "stdout",
     "output_type": "stream",
     "text": [
      "mu:\n",
      "[0. 0. 0. 0. 0.]\n",
      "Sigma:\n",
      "[[0.04800934 0.0189633  0.13069076 0.03377338 0.08095299]\n",
      " [0.0189633  0.00760599 0.05172954 0.01336806 0.03204252]\n",
      " [0.13069076 0.05172954 0.35660823 0.0921296  0.22082975]\n",
      " [0.03377338 0.01336806 0.0921296  0.02390833 0.05706729]\n",
      " [0.08095299 0.03204252 0.22082975 0.05706729 0.13688724]]\n",
      "draw a sample from each variable:\n",
      "[-0.24298271 -0.09838847 -0.72393916 -0.176606   -0.41587365]\n"
     ]
    }
   ],
   "source": [
    "num_samples = 1000\n",
    "num_variables = 5\n",
    "mu = np.random.random(size=(1, num_variables))\n",
    "sigma = mu * mu.T + np.eye(num_variables) * 1e-4\n",
    "# generate multivariate distribution\n",
    "mult_var = np.random.multivariate_normal(np.zeros(num_variables), sigma)\n",
    "print(\"mu:\")\n",
    "print(np.zeros(num_variables))\n",
    "print(\"Sigma:\")\n",
    "print(sigma)\n",
    "print(\"draw a sample from each variable:\")\n",
    "print(mult_var)"
   ]
  },
  {
   "cell_type": "markdown",
   "metadata": {},
   "source": [
    "### <img src=\"https://img.icons8.com/cotton/64/000000/ruler.png\" style=\"height:50px;display:inline\"> Mahalanobis Distance\n",
    "---\n",
    "* $d = (x - \\mu)^{T} \\Sigma^{-1} (x - \\mu)$\n",
    "* Measures the distance from $x$ to $\\mu$ in terms of $\\Sigma$, that is, the distance between a point $p$ and a distribution $D$.\n",
    "    * If $p$ is the mean of $D$, the distance is 0.\n",
    "    * The distance grows as $p$ moves away from the mean along each principal component axis.\n",
    "    * Note: if $\\Sigma = I$ , that is the **Euclidean** distance.\n",
    "* It normalizes the expression for difference in variances and correlations."
   ]
  },
  {
   "cell_type": "markdown",
   "metadata": {
    "slideshow": {
     "slide_type": "subslide"
    }
   },
   "source": [
    "#### <img src=\"https://img.icons8.com/dusk/64/000000/classroom.png\" style=\"height:50px;display:inline\"> Example - Bivariate\n",
    "---\n",
    "* $d=2$\n",
    "* $\\Sigma = \n",
    " \\begin{pmatrix}\n",
    "  \\sigma_1 ^2 & \\rho \\sigma_1 \\sigma_2 \\\\\n",
    "  \\rho \\sigma_1 \\sigma_2 & \\sigma_2^2\n",
    " \\end{pmatrix}$\n",
    "* $\\rho$ is the Pearson coefficient"
   ]
  },
  {
   "cell_type": "markdown",
   "metadata": {
    "slideshow": {
     "slide_type": "subslide"
    }
   },
   "source": [
    "* Reminder: 2x2 matrix inversion $$ \\begin{pmatrix}\n",
    "  a & b \\\\\n",
    "  c & d\n",
    " \\end{pmatrix}^{-1} = \\frac{1}{ad-bc} \\begin{pmatrix}\n",
    "  d & -b \\\\\n",
    "  -c & a\n",
    " \\end{pmatrix} $$\n",
    "<br>\n",
    "* $$\\Sigma^{-1} = \\frac{1}{\\sigma_1^2 \\sigma_2^2 (1 - \\rho^2)} \\begin{pmatrix} \\sigma_2 ^2 & - \\rho \\sigma_1 \\sigma_2 \\\\ - \\rho \\sigma_1 \\sigma_2 & \\sigma_1^2 \\end{pmatrix}$$\n",
    " <br>\n",
    "* $$f(x_1, x_2) = \\frac{1}{2\\pi \\sigma_1 \\sigma_2 \\sqrt{1 - \\rho^2}} e^{- \\frac{1}{2(1-\\rho^2)}(z_1^2 -2\\rho z_1 z_2 + z_2^2)}$$\n",
    "    * $z_i = \\frac{x_i - \\mu_i}{\\sigma_i}$ (also called **standardization**)"
   ]
  },
  {
   "cell_type": "code",
   "execution_count": 12,
   "metadata": {
    "slideshow": {
     "slide_type": "skip"
    }
   },
   "outputs": [],
   "source": [
    "from matplotlib import cm\n",
    "from mpl_toolkits.mplot3d import Axes3D\n",
    "from scipy.stats import multivariate_normal\n",
    "\n",
    "def plot_3d_normal_dist():\n",
    "    # Our 2-dimensional distribution will be over variables X and Y\n",
    "    N = 60\n",
    "    X = np.linspace(-3, 3, N)\n",
    "    Y = np.linspace(-3, 4, N)\n",
    "    X, Y = np.meshgrid(X, Y)\n",
    "\n",
    "    # Mean vector and covariance matrix\n",
    "    mu = np.array([0., 1.])\n",
    "    Sigma = np.array([[ 1. , -0.5], [-0.5,  1.5]])\n",
    "\n",
    "    # Pack X and Y into a single 3-dimensional array\n",
    "    pos = np.empty(X.shape + (2,))\n",
    "    pos[:, :, 0] = X\n",
    "    pos[:, :, 1] = Y\n",
    "\n",
    "    F = multivariate_normal(mu, Sigma)\n",
    "    Z = F.pdf(pos)\n",
    "\n",
    "    # Create a surface plot and projected filled contour plot under it.\n",
    "    fig = plt.figure(figsize=(8,5))\n",
    "    ax = fig.gca(projection='3d')\n",
    "    ax.plot_surface(X, Y, Z, rstride=3, cstride=3, linewidth=1, antialiased=True,\n",
    "                    cmap=cm.viridis)\n",
    "\n",
    "    # cset = ax.contourf(X, Y, Z, zdir='z', offset=-0.15, cmap=cm.viridis)\n",
    "\n",
    "    # Adjust the limits, ticks and view angle\n",
    "    ax.set_zlim(-0.15,0.2)\n",
    "    ax.set_zticks(np.linspace(0,0.2,5))\n",
    "    ax.view_init(27, -21)\n",
    "\n",
    "    plt.show()"
   ]
  },
  {
   "cell_type": "code",
   "execution_count": 13,
   "metadata": {
    "slideshow": {
     "slide_type": "subslide"
    }
   },
   "outputs": [
    {
     "data": {
      "application/javascript": [
       "/* Put everything inside the global mpl namespace */\n",
       "window.mpl = {};\n",
       "\n",
       "\n",
       "mpl.get_websocket_type = function() {\n",
       "    if (typeof(WebSocket) !== 'undefined') {\n",
       "        return WebSocket;\n",
       "    } else if (typeof(MozWebSocket) !== 'undefined') {\n",
       "        return MozWebSocket;\n",
       "    } else {\n",
       "        alert('Your browser does not have WebSocket support. ' +\n",
       "              'Please try Chrome, Safari or Firefox ≥ 6. ' +\n",
       "              'Firefox 4 and 5 are also supported but you ' +\n",
       "              'have to enable WebSockets in about:config.');\n",
       "    };\n",
       "}\n",
       "\n",
       "mpl.figure = function(figure_id, websocket, ondownload, parent_element) {\n",
       "    this.id = figure_id;\n",
       "\n",
       "    this.ws = websocket;\n",
       "\n",
       "    this.supports_binary = (this.ws.binaryType != undefined);\n",
       "\n",
       "    if (!this.supports_binary) {\n",
       "        var warnings = document.getElementById(\"mpl-warnings\");\n",
       "        if (warnings) {\n",
       "            warnings.style.display = 'block';\n",
       "            warnings.textContent = (\n",
       "                \"This browser does not support binary websocket messages. \" +\n",
       "                    \"Performance may be slow.\");\n",
       "        }\n",
       "    }\n",
       "\n",
       "    this.imageObj = new Image();\n",
       "\n",
       "    this.context = undefined;\n",
       "    this.message = undefined;\n",
       "    this.canvas = undefined;\n",
       "    this.rubberband_canvas = undefined;\n",
       "    this.rubberband_context = undefined;\n",
       "    this.format_dropdown = undefined;\n",
       "\n",
       "    this.image_mode = 'full';\n",
       "\n",
       "    this.root = $('<div/>');\n",
       "    this._root_extra_style(this.root)\n",
       "    this.root.attr('style', 'display: inline-block');\n",
       "\n",
       "    $(parent_element).append(this.root);\n",
       "\n",
       "    this._init_header(this);\n",
       "    this._init_canvas(this);\n",
       "    this._init_toolbar(this);\n",
       "\n",
       "    var fig = this;\n",
       "\n",
       "    this.waiting = false;\n",
       "\n",
       "    this.ws.onopen =  function () {\n",
       "            fig.send_message(\"supports_binary\", {value: fig.supports_binary});\n",
       "            fig.send_message(\"send_image_mode\", {});\n",
       "            if (mpl.ratio != 1) {\n",
       "                fig.send_message(\"set_dpi_ratio\", {'dpi_ratio': mpl.ratio});\n",
       "            }\n",
       "            fig.send_message(\"refresh\", {});\n",
       "        }\n",
       "\n",
       "    this.imageObj.onload = function() {\n",
       "            if (fig.image_mode == 'full') {\n",
       "                // Full images could contain transparency (where diff images\n",
       "                // almost always do), so we need to clear the canvas so that\n",
       "                // there is no ghosting.\n",
       "                fig.context.clearRect(0, 0, fig.canvas.width, fig.canvas.height);\n",
       "            }\n",
       "            fig.context.drawImage(fig.imageObj, 0, 0);\n",
       "        };\n",
       "\n",
       "    this.imageObj.onunload = function() {\n",
       "        fig.ws.close();\n",
       "    }\n",
       "\n",
       "    this.ws.onmessage = this._make_on_message_function(this);\n",
       "\n",
       "    this.ondownload = ondownload;\n",
       "}\n",
       "\n",
       "mpl.figure.prototype._init_header = function() {\n",
       "    var titlebar = $(\n",
       "        '<div class=\"ui-dialog-titlebar ui-widget-header ui-corner-all ' +\n",
       "        'ui-helper-clearfix\"/>');\n",
       "    var titletext = $(\n",
       "        '<div class=\"ui-dialog-title\" style=\"width: 100%; ' +\n",
       "        'text-align: center; padding: 3px;\"/>');\n",
       "    titlebar.append(titletext)\n",
       "    this.root.append(titlebar);\n",
       "    this.header = titletext[0];\n",
       "}\n",
       "\n",
       "\n",
       "\n",
       "mpl.figure.prototype._canvas_extra_style = function(canvas_div) {\n",
       "\n",
       "}\n",
       "\n",
       "\n",
       "mpl.figure.prototype._root_extra_style = function(canvas_div) {\n",
       "\n",
       "}\n",
       "\n",
       "mpl.figure.prototype._init_canvas = function() {\n",
       "    var fig = this;\n",
       "\n",
       "    var canvas_div = $('<div/>');\n",
       "\n",
       "    canvas_div.attr('style', 'position: relative; clear: both; outline: 0');\n",
       "\n",
       "    function canvas_keyboard_event(event) {\n",
       "        return fig.key_event(event, event['data']);\n",
       "    }\n",
       "\n",
       "    canvas_div.keydown('key_press', canvas_keyboard_event);\n",
       "    canvas_div.keyup('key_release', canvas_keyboard_event);\n",
       "    this.canvas_div = canvas_div\n",
       "    this._canvas_extra_style(canvas_div)\n",
       "    this.root.append(canvas_div);\n",
       "\n",
       "    var canvas = $('<canvas/>');\n",
       "    canvas.addClass('mpl-canvas');\n",
       "    canvas.attr('style', \"left: 0; top: 0; z-index: 0; outline: 0\")\n",
       "\n",
       "    this.canvas = canvas[0];\n",
       "    this.context = canvas[0].getContext(\"2d\");\n",
       "\n",
       "    var backingStore = this.context.backingStorePixelRatio ||\n",
       "\tthis.context.webkitBackingStorePixelRatio ||\n",
       "\tthis.context.mozBackingStorePixelRatio ||\n",
       "\tthis.context.msBackingStorePixelRatio ||\n",
       "\tthis.context.oBackingStorePixelRatio ||\n",
       "\tthis.context.backingStorePixelRatio || 1;\n",
       "\n",
       "    mpl.ratio = (window.devicePixelRatio || 1) / backingStore;\n",
       "\n",
       "    var rubberband = $('<canvas/>');\n",
       "    rubberband.attr('style', \"position: absolute; left: 0; top: 0; z-index: 1;\")\n",
       "\n",
       "    var pass_mouse_events = true;\n",
       "\n",
       "    canvas_div.resizable({\n",
       "        start: function(event, ui) {\n",
       "            pass_mouse_events = false;\n",
       "        },\n",
       "        resize: function(event, ui) {\n",
       "            fig.request_resize(ui.size.width, ui.size.height);\n",
       "        },\n",
       "        stop: function(event, ui) {\n",
       "            pass_mouse_events = true;\n",
       "            fig.request_resize(ui.size.width, ui.size.height);\n",
       "        },\n",
       "    });\n",
       "\n",
       "    function mouse_event_fn(event) {\n",
       "        if (pass_mouse_events)\n",
       "            return fig.mouse_event(event, event['data']);\n",
       "    }\n",
       "\n",
       "    rubberband.mousedown('button_press', mouse_event_fn);\n",
       "    rubberband.mouseup('button_release', mouse_event_fn);\n",
       "    // Throttle sequential mouse events to 1 every 20ms.\n",
       "    rubberband.mousemove('motion_notify', mouse_event_fn);\n",
       "\n",
       "    rubberband.mouseenter('figure_enter', mouse_event_fn);\n",
       "    rubberband.mouseleave('figure_leave', mouse_event_fn);\n",
       "\n",
       "    canvas_div.on(\"wheel\", function (event) {\n",
       "        event = event.originalEvent;\n",
       "        event['data'] = 'scroll'\n",
       "        if (event.deltaY < 0) {\n",
       "            event.step = 1;\n",
       "        } else {\n",
       "            event.step = -1;\n",
       "        }\n",
       "        mouse_event_fn(event);\n",
       "    });\n",
       "\n",
       "    canvas_div.append(canvas);\n",
       "    canvas_div.append(rubberband);\n",
       "\n",
       "    this.rubberband = rubberband;\n",
       "    this.rubberband_canvas = rubberband[0];\n",
       "    this.rubberband_context = rubberband[0].getContext(\"2d\");\n",
       "    this.rubberband_context.strokeStyle = \"#000000\";\n",
       "\n",
       "    this._resize_canvas = function(width, height) {\n",
       "        // Keep the size of the canvas, canvas container, and rubber band\n",
       "        // canvas in synch.\n",
       "        canvas_div.css('width', width)\n",
       "        canvas_div.css('height', height)\n",
       "\n",
       "        canvas.attr('width', width * mpl.ratio);\n",
       "        canvas.attr('height', height * mpl.ratio);\n",
       "        canvas.attr('style', 'width: ' + width + 'px; height: ' + height + 'px;');\n",
       "\n",
       "        rubberband.attr('width', width);\n",
       "        rubberband.attr('height', height);\n",
       "    }\n",
       "\n",
       "    // Set the figure to an initial 600x600px, this will subsequently be updated\n",
       "    // upon first draw.\n",
       "    this._resize_canvas(600, 600);\n",
       "\n",
       "    // Disable right mouse context menu.\n",
       "    $(this.rubberband_canvas).bind(\"contextmenu\",function(e){\n",
       "        return false;\n",
       "    });\n",
       "\n",
       "    function set_focus () {\n",
       "        canvas.focus();\n",
       "        canvas_div.focus();\n",
       "    }\n",
       "\n",
       "    window.setTimeout(set_focus, 100);\n",
       "}\n",
       "\n",
       "mpl.figure.prototype._init_toolbar = function() {\n",
       "    var fig = this;\n",
       "\n",
       "    var nav_element = $('<div/>');\n",
       "    nav_element.attr('style', 'width: 100%');\n",
       "    this.root.append(nav_element);\n",
       "\n",
       "    // Define a callback function for later on.\n",
       "    function toolbar_event(event) {\n",
       "        return fig.toolbar_button_onclick(event['data']);\n",
       "    }\n",
       "    function toolbar_mouse_event(event) {\n",
       "        return fig.toolbar_button_onmouseover(event['data']);\n",
       "    }\n",
       "\n",
       "    for(var toolbar_ind in mpl.toolbar_items) {\n",
       "        var name = mpl.toolbar_items[toolbar_ind][0];\n",
       "        var tooltip = mpl.toolbar_items[toolbar_ind][1];\n",
       "        var image = mpl.toolbar_items[toolbar_ind][2];\n",
       "        var method_name = mpl.toolbar_items[toolbar_ind][3];\n",
       "\n",
       "        if (!name) {\n",
       "            // put a spacer in here.\n",
       "            continue;\n",
       "        }\n",
       "        var button = $('<button/>');\n",
       "        button.addClass('ui-button ui-widget ui-state-default ui-corner-all ' +\n",
       "                        'ui-button-icon-only');\n",
       "        button.attr('role', 'button');\n",
       "        button.attr('aria-disabled', 'false');\n",
       "        button.click(method_name, toolbar_event);\n",
       "        button.mouseover(tooltip, toolbar_mouse_event);\n",
       "\n",
       "        var icon_img = $('<span/>');\n",
       "        icon_img.addClass('ui-button-icon-primary ui-icon');\n",
       "        icon_img.addClass(image);\n",
       "        icon_img.addClass('ui-corner-all');\n",
       "\n",
       "        var tooltip_span = $('<span/>');\n",
       "        tooltip_span.addClass('ui-button-text');\n",
       "        tooltip_span.html(tooltip);\n",
       "\n",
       "        button.append(icon_img);\n",
       "        button.append(tooltip_span);\n",
       "\n",
       "        nav_element.append(button);\n",
       "    }\n",
       "\n",
       "    var fmt_picker_span = $('<span/>');\n",
       "\n",
       "    var fmt_picker = $('<select/>');\n",
       "    fmt_picker.addClass('mpl-toolbar-option ui-widget ui-widget-content');\n",
       "    fmt_picker_span.append(fmt_picker);\n",
       "    nav_element.append(fmt_picker_span);\n",
       "    this.format_dropdown = fmt_picker[0];\n",
       "\n",
       "    for (var ind in mpl.extensions) {\n",
       "        var fmt = mpl.extensions[ind];\n",
       "        var option = $(\n",
       "            '<option/>', {selected: fmt === mpl.default_extension}).html(fmt);\n",
       "        fmt_picker.append(option);\n",
       "    }\n",
       "\n",
       "    // Add hover states to the ui-buttons\n",
       "    $( \".ui-button\" ).hover(\n",
       "        function() { $(this).addClass(\"ui-state-hover\");},\n",
       "        function() { $(this).removeClass(\"ui-state-hover\");}\n",
       "    );\n",
       "\n",
       "    var status_bar = $('<span class=\"mpl-message\"/>');\n",
       "    nav_element.append(status_bar);\n",
       "    this.message = status_bar[0];\n",
       "}\n",
       "\n",
       "mpl.figure.prototype.request_resize = function(x_pixels, y_pixels) {\n",
       "    // Request matplotlib to resize the figure. Matplotlib will then trigger a resize in the client,\n",
       "    // which will in turn request a refresh of the image.\n",
       "    this.send_message('resize', {'width': x_pixels, 'height': y_pixels});\n",
       "}\n",
       "\n",
       "mpl.figure.prototype.send_message = function(type, properties) {\n",
       "    properties['type'] = type;\n",
       "    properties['figure_id'] = this.id;\n",
       "    this.ws.send(JSON.stringify(properties));\n",
       "}\n",
       "\n",
       "mpl.figure.prototype.send_draw_message = function() {\n",
       "    if (!this.waiting) {\n",
       "        this.waiting = true;\n",
       "        this.ws.send(JSON.stringify({type: \"draw\", figure_id: this.id}));\n",
       "    }\n",
       "}\n",
       "\n",
       "\n",
       "mpl.figure.prototype.handle_save = function(fig, msg) {\n",
       "    var format_dropdown = fig.format_dropdown;\n",
       "    var format = format_dropdown.options[format_dropdown.selectedIndex].value;\n",
       "    fig.ondownload(fig, format);\n",
       "}\n",
       "\n",
       "\n",
       "mpl.figure.prototype.handle_resize = function(fig, msg) {\n",
       "    var size = msg['size'];\n",
       "    if (size[0] != fig.canvas.width || size[1] != fig.canvas.height) {\n",
       "        fig._resize_canvas(size[0], size[1]);\n",
       "        fig.send_message(\"refresh\", {});\n",
       "    };\n",
       "}\n",
       "\n",
       "mpl.figure.prototype.handle_rubberband = function(fig, msg) {\n",
       "    var x0 = msg['x0'] / mpl.ratio;\n",
       "    var y0 = (fig.canvas.height - msg['y0']) / mpl.ratio;\n",
       "    var x1 = msg['x1'] / mpl.ratio;\n",
       "    var y1 = (fig.canvas.height - msg['y1']) / mpl.ratio;\n",
       "    x0 = Math.floor(x0) + 0.5;\n",
       "    y0 = Math.floor(y0) + 0.5;\n",
       "    x1 = Math.floor(x1) + 0.5;\n",
       "    y1 = Math.floor(y1) + 0.5;\n",
       "    var min_x = Math.min(x0, x1);\n",
       "    var min_y = Math.min(y0, y1);\n",
       "    var width = Math.abs(x1 - x0);\n",
       "    var height = Math.abs(y1 - y0);\n",
       "\n",
       "    fig.rubberband_context.clearRect(\n",
       "        0, 0, fig.canvas.width / mpl.ratio, fig.canvas.height / mpl.ratio);\n",
       "\n",
       "    fig.rubberband_context.strokeRect(min_x, min_y, width, height);\n",
       "}\n",
       "\n",
       "mpl.figure.prototype.handle_figure_label = function(fig, msg) {\n",
       "    // Updates the figure title.\n",
       "    fig.header.textContent = msg['label'];\n",
       "}\n",
       "\n",
       "mpl.figure.prototype.handle_cursor = function(fig, msg) {\n",
       "    var cursor = msg['cursor'];\n",
       "    switch(cursor)\n",
       "    {\n",
       "    case 0:\n",
       "        cursor = 'pointer';\n",
       "        break;\n",
       "    case 1:\n",
       "        cursor = 'default';\n",
       "        break;\n",
       "    case 2:\n",
       "        cursor = 'crosshair';\n",
       "        break;\n",
       "    case 3:\n",
       "        cursor = 'move';\n",
       "        break;\n",
       "    }\n",
       "    fig.rubberband_canvas.style.cursor = cursor;\n",
       "}\n",
       "\n",
       "mpl.figure.prototype.handle_message = function(fig, msg) {\n",
       "    fig.message.textContent = msg['message'];\n",
       "}\n",
       "\n",
       "mpl.figure.prototype.handle_draw = function(fig, msg) {\n",
       "    // Request the server to send over a new figure.\n",
       "    fig.send_draw_message();\n",
       "}\n",
       "\n",
       "mpl.figure.prototype.handle_image_mode = function(fig, msg) {\n",
       "    fig.image_mode = msg['mode'];\n",
       "}\n",
       "\n",
       "mpl.figure.prototype.updated_canvas_event = function() {\n",
       "    // Called whenever the canvas gets updated.\n",
       "    this.send_message(\"ack\", {});\n",
       "}\n",
       "\n",
       "// A function to construct a web socket function for onmessage handling.\n",
       "// Called in the figure constructor.\n",
       "mpl.figure.prototype._make_on_message_function = function(fig) {\n",
       "    return function socket_on_message(evt) {\n",
       "        if (evt.data instanceof Blob) {\n",
       "            /* FIXME: We get \"Resource interpreted as Image but\n",
       "             * transferred with MIME type text/plain:\" errors on\n",
       "             * Chrome.  But how to set the MIME type?  It doesn't seem\n",
       "             * to be part of the websocket stream */\n",
       "            evt.data.type = \"image/png\";\n",
       "\n",
       "            /* Free the memory for the previous frames */\n",
       "            if (fig.imageObj.src) {\n",
       "                (window.URL || window.webkitURL).revokeObjectURL(\n",
       "                    fig.imageObj.src);\n",
       "            }\n",
       "\n",
       "            fig.imageObj.src = (window.URL || window.webkitURL).createObjectURL(\n",
       "                evt.data);\n",
       "            fig.updated_canvas_event();\n",
       "            fig.waiting = false;\n",
       "            return;\n",
       "        }\n",
       "        else if (typeof evt.data === 'string' && evt.data.slice(0, 21) == \"data:image/png;base64\") {\n",
       "            fig.imageObj.src = evt.data;\n",
       "            fig.updated_canvas_event();\n",
       "            fig.waiting = false;\n",
       "            return;\n",
       "        }\n",
       "\n",
       "        var msg = JSON.parse(evt.data);\n",
       "        var msg_type = msg['type'];\n",
       "\n",
       "        // Call the  \"handle_{type}\" callback, which takes\n",
       "        // the figure and JSON message as its only arguments.\n",
       "        try {\n",
       "            var callback = fig[\"handle_\" + msg_type];\n",
       "        } catch (e) {\n",
       "            console.log(\"No handler for the '\" + msg_type + \"' message type: \", msg);\n",
       "            return;\n",
       "        }\n",
       "\n",
       "        if (callback) {\n",
       "            try {\n",
       "                // console.log(\"Handling '\" + msg_type + \"' message: \", msg);\n",
       "                callback(fig, msg);\n",
       "            } catch (e) {\n",
       "                console.log(\"Exception inside the 'handler_\" + msg_type + \"' callback:\", e, e.stack, msg);\n",
       "            }\n",
       "        }\n",
       "    };\n",
       "}\n",
       "\n",
       "// from http://stackoverflow.com/questions/1114465/getting-mouse-location-in-canvas\n",
       "mpl.findpos = function(e) {\n",
       "    //this section is from http://www.quirksmode.org/js/events_properties.html\n",
       "    var targ;\n",
       "    if (!e)\n",
       "        e = window.event;\n",
       "    if (e.target)\n",
       "        targ = e.target;\n",
       "    else if (e.srcElement)\n",
       "        targ = e.srcElement;\n",
       "    if (targ.nodeType == 3) // defeat Safari bug\n",
       "        targ = targ.parentNode;\n",
       "\n",
       "    // jQuery normalizes the pageX and pageY\n",
       "    // pageX,Y are the mouse positions relative to the document\n",
       "    // offset() returns the position of the element relative to the document\n",
       "    var x = e.pageX - $(targ).offset().left;\n",
       "    var y = e.pageY - $(targ).offset().top;\n",
       "\n",
       "    return {\"x\": x, \"y\": y};\n",
       "};\n",
       "\n",
       "/*\n",
       " * return a copy of an object with only non-object keys\n",
       " * we need this to avoid circular references\n",
       " * http://stackoverflow.com/a/24161582/3208463\n",
       " */\n",
       "function simpleKeys (original) {\n",
       "  return Object.keys(original).reduce(function (obj, key) {\n",
       "    if (typeof original[key] !== 'object')\n",
       "        obj[key] = original[key]\n",
       "    return obj;\n",
       "  }, {});\n",
       "}\n",
       "\n",
       "mpl.figure.prototype.mouse_event = function(event, name) {\n",
       "    var canvas_pos = mpl.findpos(event)\n",
       "\n",
       "    if (name === 'button_press')\n",
       "    {\n",
       "        this.canvas.focus();\n",
       "        this.canvas_div.focus();\n",
       "    }\n",
       "\n",
       "    var x = canvas_pos.x * mpl.ratio;\n",
       "    var y = canvas_pos.y * mpl.ratio;\n",
       "\n",
       "    this.send_message(name, {x: x, y: y, button: event.button,\n",
       "                             step: event.step,\n",
       "                             guiEvent: simpleKeys(event)});\n",
       "\n",
       "    /* This prevents the web browser from automatically changing to\n",
       "     * the text insertion cursor when the button is pressed.  We want\n",
       "     * to control all of the cursor setting manually through the\n",
       "     * 'cursor' event from matplotlib */\n",
       "    event.preventDefault();\n",
       "    return false;\n",
       "}\n",
       "\n",
       "mpl.figure.prototype._key_event_extra = function(event, name) {\n",
       "    // Handle any extra behaviour associated with a key event\n",
       "}\n",
       "\n",
       "mpl.figure.prototype.key_event = function(event, name) {\n",
       "\n",
       "    // Prevent repeat events\n",
       "    if (name == 'key_press')\n",
       "    {\n",
       "        if (event.which === this._key)\n",
       "            return;\n",
       "        else\n",
       "            this._key = event.which;\n",
       "    }\n",
       "    if (name == 'key_release')\n",
       "        this._key = null;\n",
       "\n",
       "    var value = '';\n",
       "    if (event.ctrlKey && event.which != 17)\n",
       "        value += \"ctrl+\";\n",
       "    if (event.altKey && event.which != 18)\n",
       "        value += \"alt+\";\n",
       "    if (event.shiftKey && event.which != 16)\n",
       "        value += \"shift+\";\n",
       "\n",
       "    value += 'k';\n",
       "    value += event.which.toString();\n",
       "\n",
       "    this._key_event_extra(event, name);\n",
       "\n",
       "    this.send_message(name, {key: value,\n",
       "                             guiEvent: simpleKeys(event)});\n",
       "    return false;\n",
       "}\n",
       "\n",
       "mpl.figure.prototype.toolbar_button_onclick = function(name) {\n",
       "    if (name == 'download') {\n",
       "        this.handle_save(this, null);\n",
       "    } else {\n",
       "        this.send_message(\"toolbar_button\", {name: name});\n",
       "    }\n",
       "};\n",
       "\n",
       "mpl.figure.prototype.toolbar_button_onmouseover = function(tooltip) {\n",
       "    this.message.textContent = tooltip;\n",
       "};\n",
       "mpl.toolbar_items = [[\"Home\", \"Reset original view\", \"fa fa-home icon-home\", \"home\"], [\"Back\", \"Back to previous view\", \"fa fa-arrow-left icon-arrow-left\", \"back\"], [\"Forward\", \"Forward to next view\", \"fa fa-arrow-right icon-arrow-right\", \"forward\"], [\"\", \"\", \"\", \"\"], [\"Pan\", \"Pan axes with left mouse, zoom with right\", \"fa fa-arrows icon-move\", \"pan\"], [\"Zoom\", \"Zoom to rectangle\", \"fa fa-square-o icon-check-empty\", \"zoom\"], [\"\", \"\", \"\", \"\"], [\"Download\", \"Download plot\", \"fa fa-floppy-o icon-save\", \"download\"]];\n",
       "\n",
       "mpl.extensions = [\"eps\", \"jpeg\", \"pdf\", \"png\", \"ps\", \"raw\", \"svg\", \"tif\"];\n",
       "\n",
       "mpl.default_extension = \"png\";var comm_websocket_adapter = function(comm) {\n",
       "    // Create a \"websocket\"-like object which calls the given IPython comm\n",
       "    // object with the appropriate methods. Currently this is a non binary\n",
       "    // socket, so there is still some room for performance tuning.\n",
       "    var ws = {};\n",
       "\n",
       "    ws.close = function() {\n",
       "        comm.close()\n",
       "    };\n",
       "    ws.send = function(m) {\n",
       "        //console.log('sending', m);\n",
       "        comm.send(m);\n",
       "    };\n",
       "    // Register the callback with on_msg.\n",
       "    comm.on_msg(function(msg) {\n",
       "        //console.log('receiving', msg['content']['data'], msg);\n",
       "        // Pass the mpl event to the overridden (by mpl) onmessage function.\n",
       "        ws.onmessage(msg['content']['data'])\n",
       "    });\n",
       "    return ws;\n",
       "}\n",
       "\n",
       "mpl.mpl_figure_comm = function(comm, msg) {\n",
       "    // This is the function which gets called when the mpl process\n",
       "    // starts-up an IPython Comm through the \"matplotlib\" channel.\n",
       "\n",
       "    var id = msg.content.data.id;\n",
       "    // Get hold of the div created by the display call when the Comm\n",
       "    // socket was opened in Python.\n",
       "    var element = $(\"#\" + id);\n",
       "    var ws_proxy = comm_websocket_adapter(comm)\n",
       "\n",
       "    function ondownload(figure, format) {\n",
       "        window.open(figure.imageObj.src);\n",
       "    }\n",
       "\n",
       "    var fig = new mpl.figure(id, ws_proxy,\n",
       "                           ondownload,\n",
       "                           element.get(0));\n",
       "\n",
       "    // Call onopen now - mpl needs it, as it is assuming we've passed it a real\n",
       "    // web socket which is closed, not our websocket->open comm proxy.\n",
       "    ws_proxy.onopen();\n",
       "\n",
       "    fig.parent_element = element.get(0);\n",
       "    fig.cell_info = mpl.find_output_cell(\"<div id='\" + id + \"'></div>\");\n",
       "    if (!fig.cell_info) {\n",
       "        console.error(\"Failed to find cell for figure\", id, fig);\n",
       "        return;\n",
       "    }\n",
       "\n",
       "    var output_index = fig.cell_info[2]\n",
       "    var cell = fig.cell_info[0];\n",
       "\n",
       "};\n",
       "\n",
       "mpl.figure.prototype.handle_close = function(fig, msg) {\n",
       "    var width = fig.canvas.width/mpl.ratio\n",
       "    fig.root.unbind('remove')\n",
       "\n",
       "    // Update the output cell to use the data from the current canvas.\n",
       "    fig.push_to_output();\n",
       "    var dataURL = fig.canvas.toDataURL();\n",
       "    // Re-enable the keyboard manager in IPython - without this line, in FF,\n",
       "    // the notebook keyboard shortcuts fail.\n",
       "    IPython.keyboard_manager.enable()\n",
       "    $(fig.parent_element).html('<img src=\"' + dataURL + '\" width=\"' + width + '\">');\n",
       "    fig.close_ws(fig, msg);\n",
       "}\n",
       "\n",
       "mpl.figure.prototype.close_ws = function(fig, msg){\n",
       "    fig.send_message('closing', msg);\n",
       "    // fig.ws.close()\n",
       "}\n",
       "\n",
       "mpl.figure.prototype.push_to_output = function(remove_interactive) {\n",
       "    // Turn the data on the canvas into data in the output cell.\n",
       "    var width = this.canvas.width/mpl.ratio\n",
       "    var dataURL = this.canvas.toDataURL();\n",
       "    this.cell_info[1]['text/html'] = '<img src=\"' + dataURL + '\" width=\"' + width + '\">';\n",
       "}\n",
       "\n",
       "mpl.figure.prototype.updated_canvas_event = function() {\n",
       "    // Tell IPython that the notebook contents must change.\n",
       "    IPython.notebook.set_dirty(true);\n",
       "    this.send_message(\"ack\", {});\n",
       "    var fig = this;\n",
       "    // Wait a second, then push the new image to the DOM so\n",
       "    // that it is saved nicely (might be nice to debounce this).\n",
       "    setTimeout(function () { fig.push_to_output() }, 1000);\n",
       "}\n",
       "\n",
       "mpl.figure.prototype._init_toolbar = function() {\n",
       "    var fig = this;\n",
       "\n",
       "    var nav_element = $('<div/>');\n",
       "    nav_element.attr('style', 'width: 100%');\n",
       "    this.root.append(nav_element);\n",
       "\n",
       "    // Define a callback function for later on.\n",
       "    function toolbar_event(event) {\n",
       "        return fig.toolbar_button_onclick(event['data']);\n",
       "    }\n",
       "    function toolbar_mouse_event(event) {\n",
       "        return fig.toolbar_button_onmouseover(event['data']);\n",
       "    }\n",
       "\n",
       "    for(var toolbar_ind in mpl.toolbar_items){\n",
       "        var name = mpl.toolbar_items[toolbar_ind][0];\n",
       "        var tooltip = mpl.toolbar_items[toolbar_ind][1];\n",
       "        var image = mpl.toolbar_items[toolbar_ind][2];\n",
       "        var method_name = mpl.toolbar_items[toolbar_ind][3];\n",
       "\n",
       "        if (!name) { continue; };\n",
       "\n",
       "        var button = $('<button class=\"btn btn-default\" href=\"#\" title=\"' + name + '\"><i class=\"fa ' + image + ' fa-lg\"></i></button>');\n",
       "        button.click(method_name, toolbar_event);\n",
       "        button.mouseover(tooltip, toolbar_mouse_event);\n",
       "        nav_element.append(button);\n",
       "    }\n",
       "\n",
       "    // Add the status bar.\n",
       "    var status_bar = $('<span class=\"mpl-message\" style=\"text-align:right; float: right;\"/>');\n",
       "    nav_element.append(status_bar);\n",
       "    this.message = status_bar[0];\n",
       "\n",
       "    // Add the close button to the window.\n",
       "    var buttongrp = $('<div class=\"btn-group inline pull-right\"></div>');\n",
       "    var button = $('<button class=\"btn btn-mini btn-primary\" href=\"#\" title=\"Stop Interaction\"><i class=\"fa fa-power-off icon-remove icon-large\"></i></button>');\n",
       "    button.click(function (evt) { fig.handle_close(fig, {}); } );\n",
       "    button.mouseover('Stop Interaction', toolbar_mouse_event);\n",
       "    buttongrp.append(button);\n",
       "    var titlebar = this.root.find($('.ui-dialog-titlebar'));\n",
       "    titlebar.prepend(buttongrp);\n",
       "}\n",
       "\n",
       "mpl.figure.prototype._root_extra_style = function(el){\n",
       "    var fig = this\n",
       "    el.on(\"remove\", function(){\n",
       "\tfig.close_ws(fig, {});\n",
       "    });\n",
       "}\n",
       "\n",
       "mpl.figure.prototype._canvas_extra_style = function(el){\n",
       "    // this is important to make the div 'focusable\n",
       "    el.attr('tabindex', 0)\n",
       "    // reach out to IPython and tell the keyboard manager to turn it's self\n",
       "    // off when our div gets focus\n",
       "\n",
       "    // location in version 3\n",
       "    if (IPython.notebook.keyboard_manager) {\n",
       "        IPython.notebook.keyboard_manager.register_events(el);\n",
       "    }\n",
       "    else {\n",
       "        // location in version 2\n",
       "        IPython.keyboard_manager.register_events(el);\n",
       "    }\n",
       "\n",
       "}\n",
       "\n",
       "mpl.figure.prototype._key_event_extra = function(event, name) {\n",
       "    var manager = IPython.notebook.keyboard_manager;\n",
       "    if (!manager)\n",
       "        manager = IPython.keyboard_manager;\n",
       "\n",
       "    // Check for shift+enter\n",
       "    if (event.shiftKey && event.which == 13) {\n",
       "        this.canvas_div.blur();\n",
       "        event.shiftKey = false;\n",
       "        // Send a \"J\" for go to next cell\n",
       "        event.which = 74;\n",
       "        event.keyCode = 74;\n",
       "        manager.command_mode();\n",
       "        manager.handle_keydown(event);\n",
       "    }\n",
       "}\n",
       "\n",
       "mpl.figure.prototype.handle_save = function(fig, msg) {\n",
       "    fig.ondownload(fig, null);\n",
       "}\n",
       "\n",
       "\n",
       "mpl.find_output_cell = function(html_output) {\n",
       "    // Return the cell and output element which can be found *uniquely* in the notebook.\n",
       "    // Note - this is a bit hacky, but it is done because the \"notebook_saving.Notebook\"\n",
       "    // IPython event is triggered only after the cells have been serialised, which for\n",
       "    // our purposes (turning an active figure into a static one), is too late.\n",
       "    var cells = IPython.notebook.get_cells();\n",
       "    var ncells = cells.length;\n",
       "    for (var i=0; i<ncells; i++) {\n",
       "        var cell = cells[i];\n",
       "        if (cell.cell_type === 'code'){\n",
       "            for (var j=0; j<cell.output_area.outputs.length; j++) {\n",
       "                var data = cell.output_area.outputs[j];\n",
       "                if (data.data) {\n",
       "                    // IPython >= 3 moved mimebundle to data attribute of output\n",
       "                    data = data.data;\n",
       "                }\n",
       "                if (data['text/html'] == html_output) {\n",
       "                    return [cell, data, j];\n",
       "                }\n",
       "            }\n",
       "        }\n",
       "    }\n",
       "}\n",
       "\n",
       "// Register the function which deals with the matplotlib target/channel.\n",
       "// The kernel may be null if the page has been refreshed.\n",
       "if (IPython.notebook.kernel != null) {\n",
       "    IPython.notebook.kernel.comm_manager.register_target('matplotlib', mpl.mpl_figure_comm);\n",
       "}\n"
      ],
      "text/plain": [
       "<IPython.core.display.Javascript object>"
      ]
     },
     "metadata": {},
     "output_type": "display_data"
    },
    {
     "data": {
      "text/html": [
       "<img src=\"data:image/png;base64,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\" width=\"800\">"
      ],
      "text/plain": [
       "<IPython.core.display.HTML object>"
      ]
     },
     "metadata": {},
     "output_type": "display_data"
    }
   ],
   "source": [
    "%matplotlib notebook\n",
    "plot_3d_normal_dist()"
   ]
  },
  {
   "cell_type": "markdown",
   "metadata": {
    "slideshow": {
     "slide_type": "slide"
    }
   },
   "source": [
    "## <img src=\"https://img.icons8.com/color/48/000000/transformer.png\" style=\"height:50px;display:inline\"> Linear Transformation of Normal Distribution\n",
    "---\n",
    "* **Linear** transformations of **normally distributed** random variables are **still normally distributed**\n",
    "* Let $A \\in \\mathcal{R}^{d x k}$ and $y = A^{T}x$ then $$x \\sim N_d(\\mu, \\Sigma) \\rightarrow y \\sim N_d(A^{T} \\mu, A^{T} \\Sigma A)$$\n",
    "<img src=\"./assets/tut_01_transformation.jpg\" style=\"height:300px\">"
   ]
  },
  {
   "cell_type": "markdown",
   "metadata": {
    "slideshow": {
     "slide_type": "slide"
    }
   },
   "source": [
    "## <img src=\"https://img.icons8.com/dusk/64/000000/question-shield.png\" style=\"height:50px;display:inline\"> Parameter Estimation\n",
    "---\n",
    "* **Goal** : Estimate the parameters, usually denoted by $\\Theta$, of a parametric probability from its samples.\n",
    "    * Given samples, how can we estimate the distribution these samples came from?\n",
    "    * The problem in different words: let's say we model a distribution with parameters (i.e. $f(x;\\theta) = f_{\\theta}(x)$), that is, the probability function takes in input $x$, and using math operations with $x$ and $\\theta$, gives us the probability of $x$. We want to find the parameters that best describe the data we were given.\n",
    "* We denote:\n",
    "    * $X$ - a parametric unknown variable\n",
    "    * $D = \\{x_k\\}_{k=1}^n$ - samples of $X$ (the **data**)\n",
    "* This is sometimes called Kernel Density Estimation (KDE)- A kernel density estimation (KDE) is a way to estimate the probability density function (PDF) of the random variable that “underlies” our sample. KDE is a means of data smoothing."
   ]
  },
  {
   "cell_type": "markdown",
   "metadata": {
    "slideshow": {
     "slide_type": "subslide"
    }
   },
   "source": [
    "#### <img src=\"https://img.icons8.com/dusk/64/000000/classroom.png\" style=\"height:50px;display:inline\"> Example\n",
    "---\n",
    "Given 5,000 samples of heights for each gender, estimate the Gaussian of heights for each gender.\n",
    "\n",
    "We want to achieve something like that:\n",
    "<img src=\"./assets/tut_01_param_est.PNG\" style=\"height:250px\">\n",
    "\n",
    "* <a href=\"https://realpython.com/python-histograms/\">Image Source</a>"
   ]
  },
  {
   "cell_type": "markdown",
   "metadata": {
    "slideshow": {
     "slide_type": "slide"
    }
   },
   "source": [
    "## <img src=\"https://img.icons8.com/dusk/64/000000/maximum-value.png\" style=\"height:50px;display:inline\"> Maximum Likelihood Estimation (MLE)\n",
    "---\n",
    "* The MLE is an estimator that picks the best parameters by maximizing the **likelihood** of the distribution. Recall that when we developed Bayes rule, the likelihood is $p(D|\\theta)$ (which is a function of $\\theta$).\n",
    "* Definition: $$\\hat{\\theta}_{MLE} = \\underset{\\theta \\in \\mathcal{R}^{p}}{\\mathrm{argmax}} p(D|\\theta) =  \\underset{\\theta \\in \\mathcal{R}^{p}}{\\mathrm{argmax}} \\log p(D|\\theta)$$\n",
    "    * The last equality is true since the log function is monotonically increasing. Therefore if a function $f(x) \\geq 0$, achieves a maximum at $x_1$, then $\\log⁡(f(x))$ also achieves a maximum at $x_1$"
   ]
  },
  {
   "cell_type": "markdown",
   "metadata": {
    "slideshow": {
     "slide_type": "subslide"
    }
   },
   "source": [
    "* We assume the variables are **I.I.D (independent identically distributed)**. Note that these are the samples.\n",
    "* $L(\\theta) = p(D|\\theta) = p(x_1, x_2, ..., x_n|\\theta) = \\prod_{k=1}^n p(x_k|\\theta)$\n",
    "* $l(\\theta) = \\log \\big(L(\\theta)\\big) = \\sum_{k=1}^{n} \\log p(x_k|\\theta)$\n",
    "    * $\\log(x * y * z) = \\log x + \\log y + \\log z$\n",
    "* $\\rightarrow \\hat{\\theta}_{MLE} =  \\underset{\\theta \\in \\mathcal{R}^{p}}{\\mathrm{argmax}} \\{ l(\\theta)\\}$"
   ]
  },
  {
   "cell_type": "markdown",
   "metadata": {
    "slideshow": {
     "slide_type": "slide"
    }
   },
   "source": [
    "### <img src=\"https://img.icons8.com/dusk/64/000000/task.png\" style=\"height:50px;display:inline\"> Exercise 2 - MLE for Univariate Gaussian\n",
    "---\n",
    "Given $\\{x_i\\}_{i=1}^n$ i.i.d samples of $X \\sim N(\\mu, \\sigma^2)$, what is the MLE?"
   ]
  },
  {
   "cell_type": "markdown",
   "metadata": {
    "slideshow": {
     "slide_type": "subslide"
    }
   },
   "source": [
    "### <img src=\"https://img.icons8.com/dusk/64/000000/idea.png\" style=\"height:50px;display:inline\"> Solution 2\n",
    "---\n",
    "The first thing to ask yourself is, **what are the parameters** in this problem? In our case, the parametrs are $\\theta = [\\mu, \\sigma^2]$, it is just a matter of notation.\n",
    "\n",
    "* $p(x_i) = \\frac{1}{\\sqrt{2\\pi \\sigma^2}} e^{- \\frac{1}{2} \\frac{(x_i - \\mu)^2}{\\sigma^2}}$\n",
    "* $L(\\theta) = L(\\mu, \\sigma^2) = p(x_1, x_2, ..., x_n |\\mu, \\sigma^2) = \\prod_{i=1}^n p(x_i|\\theta) = \\frac{1}{(2\\pi \\sigma^2)^{\\frac{n}{2}}} e^{\\frac{-1}{2 \\sigma^2} \\sum_{i=1}^n (x_i - \\mu)^2}$\n",
    "* $l(\\theta) = \\log L(\\theta) = -n (\\log \\pi + \\frac{1}{2} \\log \\sigma^2) - \\frac{1}{2 \\sigma^2} \\sum_{i=1}^n (x_i - \\mu)^2$"
   ]
  },
  {
   "cell_type": "markdown",
   "metadata": {
    "slideshow": {
     "slide_type": "subslide"
    }
   },
   "source": [
    "#### Find the optimal $\\theta$\n",
    "As usual, find the point where the deriviative w.r.t $\\theta$ is 0\n",
    "* $\\frac{\\partial l}{\\partial \\mu} = \\frac{1}{\\sigma^2} \\sum_{i=1}^n (x_i - \\mu) = 0 \\rightarrow \\hat{\\mu}_{MLE} = \\frac{1}{n} \\sum_{i=1}^n x_i$\n",
    "* $\\frac{\\partial l}{\\partial \\sigma^2} = - \\frac{n}{2 \\sigma^2} + \\frac{1}{\\sigma^4}\\sum_{i=1}^n (x_i - \\mu)^2 = 0 $\n",
    "    * Plug in $\\mu = \\hat{\\mu}_{MLE} \\rightarrow \\hat{\\sigma^2}_{MLE} = \\frac{1}{n}\\sum_{i=1}^n (x_i - \\hat{\\mu}_{MLE})^2 $"
   ]
  },
  {
   "cell_type": "markdown",
   "metadata": {
    "slideshow": {
     "slide_type": "subslide"
    }
   },
   "source": [
    "* Summary: $$ \\hat{\\mu}_{MLE} = \\frac{1}{n} \\sum_{i=1}^n x_i$$ $$\\hat{\\sigma^2}_{MLE} = \\frac{1}{n}\\sum_{i=1}^n (x_i - \\hat{\\mu}_{MLE})^2 $$\n",
    "\n",
    "* Do these look familiar? These are the **empirical** mean and variance!"
   ]
  },
  {
   "cell_type": "code",
   "execution_count": 14,
   "metadata": {
    "slideshow": {
     "slide_type": "subslide"
    }
   },
   "outputs": [],
   "source": [
    "def plot_normal_mle():\n",
    "    mu_real = 5\n",
    "    var_real = 36\n",
    "    num_samples= 1000\n",
    "    samples = np.random.normal(mu_real, np.sqrt(var_real), size=(num_samples))\n",
    "\n",
    "    mu_mle = np.sum(samples) / num_samples\n",
    "    var_mle = np.sum(np.square(samples - mu_mle)) / num_samples\n",
    "\n",
    "    x = np.linspace(-30, 30, 10000)\n",
    "    f_x_mle = (1 / np.sqrt(2 * np.pi * var_mle)) * np.exp(-0.5 * (np.square(x - mu_mle)) / var_mle)\n",
    "\n",
    "    # set bins for histogram\n",
    "    n_bins = 100\n",
    "    bins_edges = np.linspace(samples.min(), samples.max() + 1e-9, n_bins + 1)\n",
    "\n",
    "    fig = plt.figure(figsize=(5, 5))\n",
    "    ax = fig.add_subplot(1, 1, 1)\n",
    "    ax.grid()\n",
    "    ax.set_ylabel('Histogram (PDF)')\n",
    "    ax.set_xlabel('x')\n",
    "\n",
    "    # plot histogram\n",
    "    ax.hist(samples, bins=bins_edges, density=True, label=\"Samples\")\n",
    "    # plot estimation\n",
    "    ax.plot(x, f_x_mle, linewidth=3, color='red', label=\"MLE\")\n",
    "    ax.legend()"
   ]
  },
  {
   "cell_type": "code",
   "execution_count": 15,
   "metadata": {
    "slideshow": {
     "slide_type": "subslide"
    }
   },
   "outputs": [
    {
     "data": {
      "application/javascript": [
       "/* Put everything inside the global mpl namespace */\n",
       "window.mpl = {};\n",
       "\n",
       "\n",
       "mpl.get_websocket_type = function() {\n",
       "    if (typeof(WebSocket) !== 'undefined') {\n",
       "        return WebSocket;\n",
       "    } else if (typeof(MozWebSocket) !== 'undefined') {\n",
       "        return MozWebSocket;\n",
       "    } else {\n",
       "        alert('Your browser does not have WebSocket support. ' +\n",
       "              'Please try Chrome, Safari or Firefox ≥ 6. ' +\n",
       "              'Firefox 4 and 5 are also supported but you ' +\n",
       "              'have to enable WebSockets in about:config.');\n",
       "    };\n",
       "}\n",
       "\n",
       "mpl.figure = function(figure_id, websocket, ondownload, parent_element) {\n",
       "    this.id = figure_id;\n",
       "\n",
       "    this.ws = websocket;\n",
       "\n",
       "    this.supports_binary = (this.ws.binaryType != undefined);\n",
       "\n",
       "    if (!this.supports_binary) {\n",
       "        var warnings = document.getElementById(\"mpl-warnings\");\n",
       "        if (warnings) {\n",
       "            warnings.style.display = 'block';\n",
       "            warnings.textContent = (\n",
       "                \"This browser does not support binary websocket messages. \" +\n",
       "                    \"Performance may be slow.\");\n",
       "        }\n",
       "    }\n",
       "\n",
       "    this.imageObj = new Image();\n",
       "\n",
       "    this.context = undefined;\n",
       "    this.message = undefined;\n",
       "    this.canvas = undefined;\n",
       "    this.rubberband_canvas = undefined;\n",
       "    this.rubberband_context = undefined;\n",
       "    this.format_dropdown = undefined;\n",
       "\n",
       "    this.image_mode = 'full';\n",
       "\n",
       "    this.root = $('<div/>');\n",
       "    this._root_extra_style(this.root)\n",
       "    this.root.attr('style', 'display: inline-block');\n",
       "\n",
       "    $(parent_element).append(this.root);\n",
       "\n",
       "    this._init_header(this);\n",
       "    this._init_canvas(this);\n",
       "    this._init_toolbar(this);\n",
       "\n",
       "    var fig = this;\n",
       "\n",
       "    this.waiting = false;\n",
       "\n",
       "    this.ws.onopen =  function () {\n",
       "            fig.send_message(\"supports_binary\", {value: fig.supports_binary});\n",
       "            fig.send_message(\"send_image_mode\", {});\n",
       "            if (mpl.ratio != 1) {\n",
       "                fig.send_message(\"set_dpi_ratio\", {'dpi_ratio': mpl.ratio});\n",
       "            }\n",
       "            fig.send_message(\"refresh\", {});\n",
       "        }\n",
       "\n",
       "    this.imageObj.onload = function() {\n",
       "            if (fig.image_mode == 'full') {\n",
       "                // Full images could contain transparency (where diff images\n",
       "                // almost always do), so we need to clear the canvas so that\n",
       "                // there is no ghosting.\n",
       "                fig.context.clearRect(0, 0, fig.canvas.width, fig.canvas.height);\n",
       "            }\n",
       "            fig.context.drawImage(fig.imageObj, 0, 0);\n",
       "        };\n",
       "\n",
       "    this.imageObj.onunload = function() {\n",
       "        fig.ws.close();\n",
       "    }\n",
       "\n",
       "    this.ws.onmessage = this._make_on_message_function(this);\n",
       "\n",
       "    this.ondownload = ondownload;\n",
       "}\n",
       "\n",
       "mpl.figure.prototype._init_header = function() {\n",
       "    var titlebar = $(\n",
       "        '<div class=\"ui-dialog-titlebar ui-widget-header ui-corner-all ' +\n",
       "        'ui-helper-clearfix\"/>');\n",
       "    var titletext = $(\n",
       "        '<div class=\"ui-dialog-title\" style=\"width: 100%; ' +\n",
       "        'text-align: center; padding: 3px;\"/>');\n",
       "    titlebar.append(titletext)\n",
       "    this.root.append(titlebar);\n",
       "    this.header = titletext[0];\n",
       "}\n",
       "\n",
       "\n",
       "\n",
       "mpl.figure.prototype._canvas_extra_style = function(canvas_div) {\n",
       "\n",
       "}\n",
       "\n",
       "\n",
       "mpl.figure.prototype._root_extra_style = function(canvas_div) {\n",
       "\n",
       "}\n",
       "\n",
       "mpl.figure.prototype._init_canvas = function() {\n",
       "    var fig = this;\n",
       "\n",
       "    var canvas_div = $('<div/>');\n",
       "\n",
       "    canvas_div.attr('style', 'position: relative; clear: both; outline: 0');\n",
       "\n",
       "    function canvas_keyboard_event(event) {\n",
       "        return fig.key_event(event, event['data']);\n",
       "    }\n",
       "\n",
       "    canvas_div.keydown('key_press', canvas_keyboard_event);\n",
       "    canvas_div.keyup('key_release', canvas_keyboard_event);\n",
       "    this.canvas_div = canvas_div\n",
       "    this._canvas_extra_style(canvas_div)\n",
       "    this.root.append(canvas_div);\n",
       "\n",
       "    var canvas = $('<canvas/>');\n",
       "    canvas.addClass('mpl-canvas');\n",
       "    canvas.attr('style', \"left: 0; top: 0; z-index: 0; outline: 0\")\n",
       "\n",
       "    this.canvas = canvas[0];\n",
       "    this.context = canvas[0].getContext(\"2d\");\n",
       "\n",
       "    var backingStore = this.context.backingStorePixelRatio ||\n",
       "\tthis.context.webkitBackingStorePixelRatio ||\n",
       "\tthis.context.mozBackingStorePixelRatio ||\n",
       "\tthis.context.msBackingStorePixelRatio ||\n",
       "\tthis.context.oBackingStorePixelRatio ||\n",
       "\tthis.context.backingStorePixelRatio || 1;\n",
       "\n",
       "    mpl.ratio = (window.devicePixelRatio || 1) / backingStore;\n",
       "\n",
       "    var rubberband = $('<canvas/>');\n",
       "    rubberband.attr('style', \"position: absolute; left: 0; top: 0; z-index: 1;\")\n",
       "\n",
       "    var pass_mouse_events = true;\n",
       "\n",
       "    canvas_div.resizable({\n",
       "        start: function(event, ui) {\n",
       "            pass_mouse_events = false;\n",
       "        },\n",
       "        resize: function(event, ui) {\n",
       "            fig.request_resize(ui.size.width, ui.size.height);\n",
       "        },\n",
       "        stop: function(event, ui) {\n",
       "            pass_mouse_events = true;\n",
       "            fig.request_resize(ui.size.width, ui.size.height);\n",
       "        },\n",
       "    });\n",
       "\n",
       "    function mouse_event_fn(event) {\n",
       "        if (pass_mouse_events)\n",
       "            return fig.mouse_event(event, event['data']);\n",
       "    }\n",
       "\n",
       "    rubberband.mousedown('button_press', mouse_event_fn);\n",
       "    rubberband.mouseup('button_release', mouse_event_fn);\n",
       "    // Throttle sequential mouse events to 1 every 20ms.\n",
       "    rubberband.mousemove('motion_notify', mouse_event_fn);\n",
       "\n",
       "    rubberband.mouseenter('figure_enter', mouse_event_fn);\n",
       "    rubberband.mouseleave('figure_leave', mouse_event_fn);\n",
       "\n",
       "    canvas_div.on(\"wheel\", function (event) {\n",
       "        event = event.originalEvent;\n",
       "        event['data'] = 'scroll'\n",
       "        if (event.deltaY < 0) {\n",
       "            event.step = 1;\n",
       "        } else {\n",
       "            event.step = -1;\n",
       "        }\n",
       "        mouse_event_fn(event);\n",
       "    });\n",
       "\n",
       "    canvas_div.append(canvas);\n",
       "    canvas_div.append(rubberband);\n",
       "\n",
       "    this.rubberband = rubberband;\n",
       "    this.rubberband_canvas = rubberband[0];\n",
       "    this.rubberband_context = rubberband[0].getContext(\"2d\");\n",
       "    this.rubberband_context.strokeStyle = \"#000000\";\n",
       "\n",
       "    this._resize_canvas = function(width, height) {\n",
       "        // Keep the size of the canvas, canvas container, and rubber band\n",
       "        // canvas in synch.\n",
       "        canvas_div.css('width', width)\n",
       "        canvas_div.css('height', height)\n",
       "\n",
       "        canvas.attr('width', width * mpl.ratio);\n",
       "        canvas.attr('height', height * mpl.ratio);\n",
       "        canvas.attr('style', 'width: ' + width + 'px; height: ' + height + 'px;');\n",
       "\n",
       "        rubberband.attr('width', width);\n",
       "        rubberband.attr('height', height);\n",
       "    }\n",
       "\n",
       "    // Set the figure to an initial 600x600px, this will subsequently be updated\n",
       "    // upon first draw.\n",
       "    this._resize_canvas(600, 600);\n",
       "\n",
       "    // Disable right mouse context menu.\n",
       "    $(this.rubberband_canvas).bind(\"contextmenu\",function(e){\n",
       "        return false;\n",
       "    });\n",
       "\n",
       "    function set_focus () {\n",
       "        canvas.focus();\n",
       "        canvas_div.focus();\n",
       "    }\n",
       "\n",
       "    window.setTimeout(set_focus, 100);\n",
       "}\n",
       "\n",
       "mpl.figure.prototype._init_toolbar = function() {\n",
       "    var fig = this;\n",
       "\n",
       "    var nav_element = $('<div/>');\n",
       "    nav_element.attr('style', 'width: 100%');\n",
       "    this.root.append(nav_element);\n",
       "\n",
       "    // Define a callback function for later on.\n",
       "    function toolbar_event(event) {\n",
       "        return fig.toolbar_button_onclick(event['data']);\n",
       "    }\n",
       "    function toolbar_mouse_event(event) {\n",
       "        return fig.toolbar_button_onmouseover(event['data']);\n",
       "    }\n",
       "\n",
       "    for(var toolbar_ind in mpl.toolbar_items) {\n",
       "        var name = mpl.toolbar_items[toolbar_ind][0];\n",
       "        var tooltip = mpl.toolbar_items[toolbar_ind][1];\n",
       "        var image = mpl.toolbar_items[toolbar_ind][2];\n",
       "        var method_name = mpl.toolbar_items[toolbar_ind][3];\n",
       "\n",
       "        if (!name) {\n",
       "            // put a spacer in here.\n",
       "            continue;\n",
       "        }\n",
       "        var button = $('<button/>');\n",
       "        button.addClass('ui-button ui-widget ui-state-default ui-corner-all ' +\n",
       "                        'ui-button-icon-only');\n",
       "        button.attr('role', 'button');\n",
       "        button.attr('aria-disabled', 'false');\n",
       "        button.click(method_name, toolbar_event);\n",
       "        button.mouseover(tooltip, toolbar_mouse_event);\n",
       "\n",
       "        var icon_img = $('<span/>');\n",
       "        icon_img.addClass('ui-button-icon-primary ui-icon');\n",
       "        icon_img.addClass(image);\n",
       "        icon_img.addClass('ui-corner-all');\n",
       "\n",
       "        var tooltip_span = $('<span/>');\n",
       "        tooltip_span.addClass('ui-button-text');\n",
       "        tooltip_span.html(tooltip);\n",
       "\n",
       "        button.append(icon_img);\n",
       "        button.append(tooltip_span);\n",
       "\n",
       "        nav_element.append(button);\n",
       "    }\n",
       "\n",
       "    var fmt_picker_span = $('<span/>');\n",
       "\n",
       "    var fmt_picker = $('<select/>');\n",
       "    fmt_picker.addClass('mpl-toolbar-option ui-widget ui-widget-content');\n",
       "    fmt_picker_span.append(fmt_picker);\n",
       "    nav_element.append(fmt_picker_span);\n",
       "    this.format_dropdown = fmt_picker[0];\n",
       "\n",
       "    for (var ind in mpl.extensions) {\n",
       "        var fmt = mpl.extensions[ind];\n",
       "        var option = $(\n",
       "            '<option/>', {selected: fmt === mpl.default_extension}).html(fmt);\n",
       "        fmt_picker.append(option);\n",
       "    }\n",
       "\n",
       "    // Add hover states to the ui-buttons\n",
       "    $( \".ui-button\" ).hover(\n",
       "        function() { $(this).addClass(\"ui-state-hover\");},\n",
       "        function() { $(this).removeClass(\"ui-state-hover\");}\n",
       "    );\n",
       "\n",
       "    var status_bar = $('<span class=\"mpl-message\"/>');\n",
       "    nav_element.append(status_bar);\n",
       "    this.message = status_bar[0];\n",
       "}\n",
       "\n",
       "mpl.figure.prototype.request_resize = function(x_pixels, y_pixels) {\n",
       "    // Request matplotlib to resize the figure. Matplotlib will then trigger a resize in the client,\n",
       "    // which will in turn request a refresh of the image.\n",
       "    this.send_message('resize', {'width': x_pixels, 'height': y_pixels});\n",
       "}\n",
       "\n",
       "mpl.figure.prototype.send_message = function(type, properties) {\n",
       "    properties['type'] = type;\n",
       "    properties['figure_id'] = this.id;\n",
       "    this.ws.send(JSON.stringify(properties));\n",
       "}\n",
       "\n",
       "mpl.figure.prototype.send_draw_message = function() {\n",
       "    if (!this.waiting) {\n",
       "        this.waiting = true;\n",
       "        this.ws.send(JSON.stringify({type: \"draw\", figure_id: this.id}));\n",
       "    }\n",
       "}\n",
       "\n",
       "\n",
       "mpl.figure.prototype.handle_save = function(fig, msg) {\n",
       "    var format_dropdown = fig.format_dropdown;\n",
       "    var format = format_dropdown.options[format_dropdown.selectedIndex].value;\n",
       "    fig.ondownload(fig, format);\n",
       "}\n",
       "\n",
       "\n",
       "mpl.figure.prototype.handle_resize = function(fig, msg) {\n",
       "    var size = msg['size'];\n",
       "    if (size[0] != fig.canvas.width || size[1] != fig.canvas.height) {\n",
       "        fig._resize_canvas(size[0], size[1]);\n",
       "        fig.send_message(\"refresh\", {});\n",
       "    };\n",
       "}\n",
       "\n",
       "mpl.figure.prototype.handle_rubberband = function(fig, msg) {\n",
       "    var x0 = msg['x0'] / mpl.ratio;\n",
       "    var y0 = (fig.canvas.height - msg['y0']) / mpl.ratio;\n",
       "    var x1 = msg['x1'] / mpl.ratio;\n",
       "    var y1 = (fig.canvas.height - msg['y1']) / mpl.ratio;\n",
       "    x0 = Math.floor(x0) + 0.5;\n",
       "    y0 = Math.floor(y0) + 0.5;\n",
       "    x1 = Math.floor(x1) + 0.5;\n",
       "    y1 = Math.floor(y1) + 0.5;\n",
       "    var min_x = Math.min(x0, x1);\n",
       "    var min_y = Math.min(y0, y1);\n",
       "    var width = Math.abs(x1 - x0);\n",
       "    var height = Math.abs(y1 - y0);\n",
       "\n",
       "    fig.rubberband_context.clearRect(\n",
       "        0, 0, fig.canvas.width / mpl.ratio, fig.canvas.height / mpl.ratio);\n",
       "\n",
       "    fig.rubberband_context.strokeRect(min_x, min_y, width, height);\n",
       "}\n",
       "\n",
       "mpl.figure.prototype.handle_figure_label = function(fig, msg) {\n",
       "    // Updates the figure title.\n",
       "    fig.header.textContent = msg['label'];\n",
       "}\n",
       "\n",
       "mpl.figure.prototype.handle_cursor = function(fig, msg) {\n",
       "    var cursor = msg['cursor'];\n",
       "    switch(cursor)\n",
       "    {\n",
       "    case 0:\n",
       "        cursor = 'pointer';\n",
       "        break;\n",
       "    case 1:\n",
       "        cursor = 'default';\n",
       "        break;\n",
       "    case 2:\n",
       "        cursor = 'crosshair';\n",
       "        break;\n",
       "    case 3:\n",
       "        cursor = 'move';\n",
       "        break;\n",
       "    }\n",
       "    fig.rubberband_canvas.style.cursor = cursor;\n",
       "}\n",
       "\n",
       "mpl.figure.prototype.handle_message = function(fig, msg) {\n",
       "    fig.message.textContent = msg['message'];\n",
       "}\n",
       "\n",
       "mpl.figure.prototype.handle_draw = function(fig, msg) {\n",
       "    // Request the server to send over a new figure.\n",
       "    fig.send_draw_message();\n",
       "}\n",
       "\n",
       "mpl.figure.prototype.handle_image_mode = function(fig, msg) {\n",
       "    fig.image_mode = msg['mode'];\n",
       "}\n",
       "\n",
       "mpl.figure.prototype.updated_canvas_event = function() {\n",
       "    // Called whenever the canvas gets updated.\n",
       "    this.send_message(\"ack\", {});\n",
       "}\n",
       "\n",
       "// A function to construct a web socket function for onmessage handling.\n",
       "// Called in the figure constructor.\n",
       "mpl.figure.prototype._make_on_message_function = function(fig) {\n",
       "    return function socket_on_message(evt) {\n",
       "        if (evt.data instanceof Blob) {\n",
       "            /* FIXME: We get \"Resource interpreted as Image but\n",
       "             * transferred with MIME type text/plain:\" errors on\n",
       "             * Chrome.  But how to set the MIME type?  It doesn't seem\n",
       "             * to be part of the websocket stream */\n",
       "            evt.data.type = \"image/png\";\n",
       "\n",
       "            /* Free the memory for the previous frames */\n",
       "            if (fig.imageObj.src) {\n",
       "                (window.URL || window.webkitURL).revokeObjectURL(\n",
       "                    fig.imageObj.src);\n",
       "            }\n",
       "\n",
       "            fig.imageObj.src = (window.URL || window.webkitURL).createObjectURL(\n",
       "                evt.data);\n",
       "            fig.updated_canvas_event();\n",
       "            fig.waiting = false;\n",
       "            return;\n",
       "        }\n",
       "        else if (typeof evt.data === 'string' && evt.data.slice(0, 21) == \"data:image/png;base64\") {\n",
       "            fig.imageObj.src = evt.data;\n",
       "            fig.updated_canvas_event();\n",
       "            fig.waiting = false;\n",
       "            return;\n",
       "        }\n",
       "\n",
       "        var msg = JSON.parse(evt.data);\n",
       "        var msg_type = msg['type'];\n",
       "\n",
       "        // Call the  \"handle_{type}\" callback, which takes\n",
       "        // the figure and JSON message as its only arguments.\n",
       "        try {\n",
       "            var callback = fig[\"handle_\" + msg_type];\n",
       "        } catch (e) {\n",
       "            console.log(\"No handler for the '\" + msg_type + \"' message type: \", msg);\n",
       "            return;\n",
       "        }\n",
       "\n",
       "        if (callback) {\n",
       "            try {\n",
       "                // console.log(\"Handling '\" + msg_type + \"' message: \", msg);\n",
       "                callback(fig, msg);\n",
       "            } catch (e) {\n",
       "                console.log(\"Exception inside the 'handler_\" + msg_type + \"' callback:\", e, e.stack, msg);\n",
       "            }\n",
       "        }\n",
       "    };\n",
       "}\n",
       "\n",
       "// from http://stackoverflow.com/questions/1114465/getting-mouse-location-in-canvas\n",
       "mpl.findpos = function(e) {\n",
       "    //this section is from http://www.quirksmode.org/js/events_properties.html\n",
       "    var targ;\n",
       "    if (!e)\n",
       "        e = window.event;\n",
       "    if (e.target)\n",
       "        targ = e.target;\n",
       "    else if (e.srcElement)\n",
       "        targ = e.srcElement;\n",
       "    if (targ.nodeType == 3) // defeat Safari bug\n",
       "        targ = targ.parentNode;\n",
       "\n",
       "    // jQuery normalizes the pageX and pageY\n",
       "    // pageX,Y are the mouse positions relative to the document\n",
       "    // offset() returns the position of the element relative to the document\n",
       "    var x = e.pageX - $(targ).offset().left;\n",
       "    var y = e.pageY - $(targ).offset().top;\n",
       "\n",
       "    return {\"x\": x, \"y\": y};\n",
       "};\n",
       "\n",
       "/*\n",
       " * return a copy of an object with only non-object keys\n",
       " * we need this to avoid circular references\n",
       " * http://stackoverflow.com/a/24161582/3208463\n",
       " */\n",
       "function simpleKeys (original) {\n",
       "  return Object.keys(original).reduce(function (obj, key) {\n",
       "    if (typeof original[key] !== 'object')\n",
       "        obj[key] = original[key]\n",
       "    return obj;\n",
       "  }, {});\n",
       "}\n",
       "\n",
       "mpl.figure.prototype.mouse_event = function(event, name) {\n",
       "    var canvas_pos = mpl.findpos(event)\n",
       "\n",
       "    if (name === 'button_press')\n",
       "    {\n",
       "        this.canvas.focus();\n",
       "        this.canvas_div.focus();\n",
       "    }\n",
       "\n",
       "    var x = canvas_pos.x * mpl.ratio;\n",
       "    var y = canvas_pos.y * mpl.ratio;\n",
       "\n",
       "    this.send_message(name, {x: x, y: y, button: event.button,\n",
       "                             step: event.step,\n",
       "                             guiEvent: simpleKeys(event)});\n",
       "\n",
       "    /* This prevents the web browser from automatically changing to\n",
       "     * the text insertion cursor when the button is pressed.  We want\n",
       "     * to control all of the cursor setting manually through the\n",
       "     * 'cursor' event from matplotlib */\n",
       "    event.preventDefault();\n",
       "    return false;\n",
       "}\n",
       "\n",
       "mpl.figure.prototype._key_event_extra = function(event, name) {\n",
       "    // Handle any extra behaviour associated with a key event\n",
       "}\n",
       "\n",
       "mpl.figure.prototype.key_event = function(event, name) {\n",
       "\n",
       "    // Prevent repeat events\n",
       "    if (name == 'key_press')\n",
       "    {\n",
       "        if (event.which === this._key)\n",
       "            return;\n",
       "        else\n",
       "            this._key = event.which;\n",
       "    }\n",
       "    if (name == 'key_release')\n",
       "        this._key = null;\n",
       "\n",
       "    var value = '';\n",
       "    if (event.ctrlKey && event.which != 17)\n",
       "        value += \"ctrl+\";\n",
       "    if (event.altKey && event.which != 18)\n",
       "        value += \"alt+\";\n",
       "    if (event.shiftKey && event.which != 16)\n",
       "        value += \"shift+\";\n",
       "\n",
       "    value += 'k';\n",
       "    value += event.which.toString();\n",
       "\n",
       "    this._key_event_extra(event, name);\n",
       "\n",
       "    this.send_message(name, {key: value,\n",
       "                             guiEvent: simpleKeys(event)});\n",
       "    return false;\n",
       "}\n",
       "\n",
       "mpl.figure.prototype.toolbar_button_onclick = function(name) {\n",
       "    if (name == 'download') {\n",
       "        this.handle_save(this, null);\n",
       "    } else {\n",
       "        this.send_message(\"toolbar_button\", {name: name});\n",
       "    }\n",
       "};\n",
       "\n",
       "mpl.figure.prototype.toolbar_button_onmouseover = function(tooltip) {\n",
       "    this.message.textContent = tooltip;\n",
       "};\n",
       "mpl.toolbar_items = [[\"Home\", \"Reset original view\", \"fa fa-home icon-home\", \"home\"], [\"Back\", \"Back to previous view\", \"fa fa-arrow-left icon-arrow-left\", \"back\"], [\"Forward\", \"Forward to next view\", \"fa fa-arrow-right icon-arrow-right\", \"forward\"], [\"\", \"\", \"\", \"\"], [\"Pan\", \"Pan axes with left mouse, zoom with right\", \"fa fa-arrows icon-move\", \"pan\"], [\"Zoom\", \"Zoom to rectangle\", \"fa fa-square-o icon-check-empty\", \"zoom\"], [\"\", \"\", \"\", \"\"], [\"Download\", \"Download plot\", \"fa fa-floppy-o icon-save\", \"download\"]];\n",
       "\n",
       "mpl.extensions = [\"eps\", \"jpeg\", \"pdf\", \"png\", \"ps\", \"raw\", \"svg\", \"tif\"];\n",
       "\n",
       "mpl.default_extension = \"png\";var comm_websocket_adapter = function(comm) {\n",
       "    // Create a \"websocket\"-like object which calls the given IPython comm\n",
       "    // object with the appropriate methods. Currently this is a non binary\n",
       "    // socket, so there is still some room for performance tuning.\n",
       "    var ws = {};\n",
       "\n",
       "    ws.close = function() {\n",
       "        comm.close()\n",
       "    };\n",
       "    ws.send = function(m) {\n",
       "        //console.log('sending', m);\n",
       "        comm.send(m);\n",
       "    };\n",
       "    // Register the callback with on_msg.\n",
       "    comm.on_msg(function(msg) {\n",
       "        //console.log('receiving', msg['content']['data'], msg);\n",
       "        // Pass the mpl event to the overridden (by mpl) onmessage function.\n",
       "        ws.onmessage(msg['content']['data'])\n",
       "    });\n",
       "    return ws;\n",
       "}\n",
       "\n",
       "mpl.mpl_figure_comm = function(comm, msg) {\n",
       "    // This is the function which gets called when the mpl process\n",
       "    // starts-up an IPython Comm through the \"matplotlib\" channel.\n",
       "\n",
       "    var id = msg.content.data.id;\n",
       "    // Get hold of the div created by the display call when the Comm\n",
       "    // socket was opened in Python.\n",
       "    var element = $(\"#\" + id);\n",
       "    var ws_proxy = comm_websocket_adapter(comm)\n",
       "\n",
       "    function ondownload(figure, format) {\n",
       "        window.open(figure.imageObj.src);\n",
       "    }\n",
       "\n",
       "    var fig = new mpl.figure(id, ws_proxy,\n",
       "                           ondownload,\n",
       "                           element.get(0));\n",
       "\n",
       "    // Call onopen now - mpl needs it, as it is assuming we've passed it a real\n",
       "    // web socket which is closed, not our websocket->open comm proxy.\n",
       "    ws_proxy.onopen();\n",
       "\n",
       "    fig.parent_element = element.get(0);\n",
       "    fig.cell_info = mpl.find_output_cell(\"<div id='\" + id + \"'></div>\");\n",
       "    if (!fig.cell_info) {\n",
       "        console.error(\"Failed to find cell for figure\", id, fig);\n",
       "        return;\n",
       "    }\n",
       "\n",
       "    var output_index = fig.cell_info[2]\n",
       "    var cell = fig.cell_info[0];\n",
       "\n",
       "};\n",
       "\n",
       "mpl.figure.prototype.handle_close = function(fig, msg) {\n",
       "    var width = fig.canvas.width/mpl.ratio\n",
       "    fig.root.unbind('remove')\n",
       "\n",
       "    // Update the output cell to use the data from the current canvas.\n",
       "    fig.push_to_output();\n",
       "    var dataURL = fig.canvas.toDataURL();\n",
       "    // Re-enable the keyboard manager in IPython - without this line, in FF,\n",
       "    // the notebook keyboard shortcuts fail.\n",
       "    IPython.keyboard_manager.enable()\n",
       "    $(fig.parent_element).html('<img src=\"' + dataURL + '\" width=\"' + width + '\">');\n",
       "    fig.close_ws(fig, msg);\n",
       "}\n",
       "\n",
       "mpl.figure.prototype.close_ws = function(fig, msg){\n",
       "    fig.send_message('closing', msg);\n",
       "    // fig.ws.close()\n",
       "}\n",
       "\n",
       "mpl.figure.prototype.push_to_output = function(remove_interactive) {\n",
       "    // Turn the data on the canvas into data in the output cell.\n",
       "    var width = this.canvas.width/mpl.ratio\n",
       "    var dataURL = this.canvas.toDataURL();\n",
       "    this.cell_info[1]['text/html'] = '<img src=\"' + dataURL + '\" width=\"' + width + '\">';\n",
       "}\n",
       "\n",
       "mpl.figure.prototype.updated_canvas_event = function() {\n",
       "    // Tell IPython that the notebook contents must change.\n",
       "    IPython.notebook.set_dirty(true);\n",
       "    this.send_message(\"ack\", {});\n",
       "    var fig = this;\n",
       "    // Wait a second, then push the new image to the DOM so\n",
       "    // that it is saved nicely (might be nice to debounce this).\n",
       "    setTimeout(function () { fig.push_to_output() }, 1000);\n",
       "}\n",
       "\n",
       "mpl.figure.prototype._init_toolbar = function() {\n",
       "    var fig = this;\n",
       "\n",
       "    var nav_element = $('<div/>');\n",
       "    nav_element.attr('style', 'width: 100%');\n",
       "    this.root.append(nav_element);\n",
       "\n",
       "    // Define a callback function for later on.\n",
       "    function toolbar_event(event) {\n",
       "        return fig.toolbar_button_onclick(event['data']);\n",
       "    }\n",
       "    function toolbar_mouse_event(event) {\n",
       "        return fig.toolbar_button_onmouseover(event['data']);\n",
       "    }\n",
       "\n",
       "    for(var toolbar_ind in mpl.toolbar_items){\n",
       "        var name = mpl.toolbar_items[toolbar_ind][0];\n",
       "        var tooltip = mpl.toolbar_items[toolbar_ind][1];\n",
       "        var image = mpl.toolbar_items[toolbar_ind][2];\n",
       "        var method_name = mpl.toolbar_items[toolbar_ind][3];\n",
       "\n",
       "        if (!name) { continue; };\n",
       "\n",
       "        var button = $('<button class=\"btn btn-default\" href=\"#\" title=\"' + name + '\"><i class=\"fa ' + image + ' fa-lg\"></i></button>');\n",
       "        button.click(method_name, toolbar_event);\n",
       "        button.mouseover(tooltip, toolbar_mouse_event);\n",
       "        nav_element.append(button);\n",
       "    }\n",
       "\n",
       "    // Add the status bar.\n",
       "    var status_bar = $('<span class=\"mpl-message\" style=\"text-align:right; float: right;\"/>');\n",
       "    nav_element.append(status_bar);\n",
       "    this.message = status_bar[0];\n",
       "\n",
       "    // Add the close button to the window.\n",
       "    var buttongrp = $('<div class=\"btn-group inline pull-right\"></div>');\n",
       "    var button = $('<button class=\"btn btn-mini btn-primary\" href=\"#\" title=\"Stop Interaction\"><i class=\"fa fa-power-off icon-remove icon-large\"></i></button>');\n",
       "    button.click(function (evt) { fig.handle_close(fig, {}); } );\n",
       "    button.mouseover('Stop Interaction', toolbar_mouse_event);\n",
       "    buttongrp.append(button);\n",
       "    var titlebar = this.root.find($('.ui-dialog-titlebar'));\n",
       "    titlebar.prepend(buttongrp);\n",
       "}\n",
       "\n",
       "mpl.figure.prototype._root_extra_style = function(el){\n",
       "    var fig = this\n",
       "    el.on(\"remove\", function(){\n",
       "\tfig.close_ws(fig, {});\n",
       "    });\n",
       "}\n",
       "\n",
       "mpl.figure.prototype._canvas_extra_style = function(el){\n",
       "    // this is important to make the div 'focusable\n",
       "    el.attr('tabindex', 0)\n",
       "    // reach out to IPython and tell the keyboard manager to turn it's self\n",
       "    // off when our div gets focus\n",
       "\n",
       "    // location in version 3\n",
       "    if (IPython.notebook.keyboard_manager) {\n",
       "        IPython.notebook.keyboard_manager.register_events(el);\n",
       "    }\n",
       "    else {\n",
       "        // location in version 2\n",
       "        IPython.keyboard_manager.register_events(el);\n",
       "    }\n",
       "\n",
       "}\n",
       "\n",
       "mpl.figure.prototype._key_event_extra = function(event, name) {\n",
       "    var manager = IPython.notebook.keyboard_manager;\n",
       "    if (!manager)\n",
       "        manager = IPython.keyboard_manager;\n",
       "\n",
       "    // Check for shift+enter\n",
       "    if (event.shiftKey && event.which == 13) {\n",
       "        this.canvas_div.blur();\n",
       "        event.shiftKey = false;\n",
       "        // Send a \"J\" for go to next cell\n",
       "        event.which = 74;\n",
       "        event.keyCode = 74;\n",
       "        manager.command_mode();\n",
       "        manager.handle_keydown(event);\n",
       "    }\n",
       "}\n",
       "\n",
       "mpl.figure.prototype.handle_save = function(fig, msg) {\n",
       "    fig.ondownload(fig, null);\n",
       "}\n",
       "\n",
       "\n",
       "mpl.find_output_cell = function(html_output) {\n",
       "    // Return the cell and output element which can be found *uniquely* in the notebook.\n",
       "    // Note - this is a bit hacky, but it is done because the \"notebook_saving.Notebook\"\n",
       "    // IPython event is triggered only after the cells have been serialised, which for\n",
       "    // our purposes (turning an active figure into a static one), is too late.\n",
       "    var cells = IPython.notebook.get_cells();\n",
       "    var ncells = cells.length;\n",
       "    for (var i=0; i<ncells; i++) {\n",
       "        var cell = cells[i];\n",
       "        if (cell.cell_type === 'code'){\n",
       "            for (var j=0; j<cell.output_area.outputs.length; j++) {\n",
       "                var data = cell.output_area.outputs[j];\n",
       "                if (data.data) {\n",
       "                    // IPython >= 3 moved mimebundle to data attribute of output\n",
       "                    data = data.data;\n",
       "                }\n",
       "                if (data['text/html'] == html_output) {\n",
       "                    return [cell, data, j];\n",
       "                }\n",
       "            }\n",
       "        }\n",
       "    }\n",
       "}\n",
       "\n",
       "// Register the function which deals with the matplotlib target/channel.\n",
       "// The kernel may be null if the page has been refreshed.\n",
       "if (IPython.notebook.kernel != null) {\n",
       "    IPython.notebook.kernel.comm_manager.register_target('matplotlib', mpl.mpl_figure_comm);\n",
       "}\n"
      ],
      "text/plain": [
       "<IPython.core.display.Javascript object>"
      ]
     },
     "metadata": {},
     "output_type": "display_data"
    },
    {
     "data": {
      "text/html": [
       "<img src=\"data:image/png;base64,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\" width=\"499.6363636363636\">"
      ],
      "text/plain": [
       "<IPython.core.display.HTML object>"
      ]
     },
     "metadata": {},
     "output_type": "display_data"
    }
   ],
   "source": [
    "# let's see how the MLE performs\n",
    "plot_normal_mle()"
   ]
  },
  {
   "cell_type": "markdown",
   "metadata": {
    "slideshow": {
     "slide_type": "slide"
    }
   },
   "source": [
    "### <img src=\"https://img.icons8.com/dusk/64/000000/task.png\" style=\"height:50px;display:inline\"> Exercise 2.5 - MLE for m-Dimensional Gaussian\n",
    "---\n",
    "Given $\\{x_i\\}_{i=1}^n$ i.i.d samples of $X \\sim N(\\mu, \\Sigma)$, what is the MLE?"
   ]
  },
  {
   "cell_type": "markdown",
   "metadata": {
    "slideshow": {
     "slide_type": "subslide"
    }
   },
   "source": [
    "### <img src=\"https://img.icons8.com/dusk/64/000000/idea.png\" style=\"height:50px;display:inline\"> Solution 2.5\n",
    "---\n",
    "The final results are pretty much the same, but with vectors and matrices, though the math is a little more complicated.\n",
    "$$ \\hat{\\overline{\\mu}}_{MLE} = \\frac{1}{n} \\sum_{i=1}^n \\overline{x_i} $$\n",
    "$$ \\hat{\\Sigma}_{MLE} = \\frac{1}{n} \\sum_{i=1}^n (\\overline{x_i} - \\hat{\\overline{\\mu}}_{MLE}) (\\overline{x_i} - \\hat{\\overline{\\mu}}_{MLE})^{T}$$"
   ]
  },
  {
   "cell_type": "markdown",
   "metadata": {
    "slideshow": {
     "slide_type": "subslide"
    }
   },
   "source": [
    "#### <img src=\"https://img.icons8.com/dusk/64/000000/scissors.png\" style=\"height:30px;display:inline\"> Vector & Matrix Deriviatives\n",
    "---\n",
    "* $\\nabla_x Ax = A^{T}$\n",
    "* $\\nabla_x x^{T} A x = (A + A^{T}) x$ \n",
    "* $\\frac{\\partial}{\\partial A} \\ln |A| = A^{-T}$\n",
    "* $\\frac{\\partial}{\\partial A} Tr[AB] = B^{T}$"
   ]
  },
  {
   "cell_type": "markdown",
   "metadata": {
    "slideshow": {
     "slide_type": "subslide"
    }
   },
   "source": [
    "Using the above, we will use the following:\n",
    "1. $\\nabla_{\\mu} {\\mu}^{T} \\Sigma^{-1} x_i = \\Sigma^{-1} x_i$ \n",
    "2. $\\nabla_{\\mu} {\\mu}^{T} \\Sigma^{-1} \\mu = (\\Sigma^{-1} + {\\Sigma}^{-T}) \\mu$\n",
    "3. $\\frac{\\partial}{\\partial \\Sigma^{-1}} \\ln |\\Sigma^{-1}| = \\Sigma^{T} = \\Sigma$\n",
    "4. $\\frac{\\partial}{\\partial \\Sigma^{-1}} Tr[\\Sigma^{-1} \\sum_{i=1}^n (\\overline{x_i} - \\overline{\\mu}) (\\overline{x_i} - \\overline{\\mu})^{T}] = \\sum_{i=1}^n (\\overline{x_i} - \\overline{\\mu}) (\\overline{x_i} - \\overline{\\mu})^{T}$"
   ]
  },
  {
   "cell_type": "markdown",
   "metadata": {
    "slideshow": {
     "slide_type": "subslide"
    }
   },
   "source": [
    "#### Solve for the d-dimensional case\n",
    "* $p(x|\\mu, \\Sigma) = \\frac{1}{(2\\pi)^{\\frac{nd}{2}} |\\Sigma|^{\\frac{n}{2}}} e^{- \\frac{1}{2}\\sum_{i=1}^n (x_i - \\mu)^{T} \\Sigma^{-1} (x_i - \\mu)}$\n",
    "\n",
    "<br>\n",
    "\n",
    "* $\\ln p(x|\\mu, \\Sigma) \\propto -\\frac{n}{2} \\ln |\\Sigma^{-1}| -\\frac{1}{2} \\sum_{i=1}^n (\\overline{x_i} - \\overline{\\mu})^{T} \\Sigma^{-1} (\\overline{x_i} - \\overline{\\mu}) $\n",
    "\n",
    "<br>\n",
    "\n",
    "* $\\nabla_{\\mu} \\sum_{i=1}^n (\\overline{x_i} - \\overline{\\mu})^{T} \\Sigma^{-1} (\\overline{x_i} - \\overline{\\mu}) = \\sum_{i=1}^{n} (-2\\Sigma^{-1} x_i + (\\Sigma^{-1} + {\\Sigma}^{-T}) \\mu) = 0 \\rightarrow \\hat{\\overline{\\mu}}_{MLE} = \\frac{1}{n} \\sum_{i=1}^n \\overline{x_i} $"
   ]
  },
  {
   "cell_type": "markdown",
   "metadata": {
    "slideshow": {
     "slide_type": "subslide"
    }
   },
   "source": [
    "\n",
    "* **The Trace Trick** - $\\sum_{i=1}^n (\\overline{x_i} - \\overline{\\mu})^{T} \\Sigma^{-1} (\\overline{x_i} - \\overline{\\mu}) = \\sum_{i=1}^n \\textit{Trace}\\big((\\overline{x_i} - \\overline{\\mu})^{T} \\Sigma^{-1} (\\overline{x_i} - \\overline{\\mu})\\big) = \\textit{Trace}\\big(\\Sigma^{-1} \\sum_{i=1}^n (\\overline{x_i} - \\overline{\\mu}) (\\overline{x_i} - \\overline{\\mu})^{T} \\big)$\n",
    "\n",
    "<br>\n",
    "\n",
    "* $\\frac{\\partial}{\\partial \\Sigma^{-1}}\\big( \\frac{n}{2} \\ln |\\Sigma^{-1}| -\\frac{1}{2} \\sum_{i=1}^n (\\overline{x_i} - \\overline{\\mu})^{T} \\Sigma^{-1} (\\overline{x_i} - \\overline{\\mu}) \\big) = \\frac{\\partial}{\\partial \\Sigma^{-1}}\\big( \\frac{n}{2} \\ln |\\Sigma^{-1}| -\\frac{1}{2} \\Sigma^{-1} \\sum_{i=1}^n (\\overline{x_i} - \\overline{\\mu}) (\\overline{x_i} - \\overline{\\mu})^{T} \\big) = $ $$ \\frac{n}{2} \\Sigma - \\frac{1}{2} \\sum_{i=1}^n (\\overline{x_i} - \\overline{\\mu}) (\\overline{x_i} - \\overline{\\mu})^{T} = 0 \\rightarrow \\hat{\\Sigma}_{MLE} = \\frac{1}{n} \\sum_{i=1}^n (\\overline{x_i} - \\hat{\\overline{\\mu}}_{MLE}) (\\overline{x_i} - \\hat{\\overline{\\mu}}_{MLE})^{T} $$"
   ]
  },
  {
   "cell_type": "markdown",
   "metadata": {
    "slideshow": {
     "slide_type": "slide"
    }
   },
   "source": [
    "### <img src=\"https://img.icons8.com/dusk/64/000000/task.png\" style=\"height:50px;display:inline\"> Exercise 3 - MLE for Geometric Distribution\n",
    "---\n",
    "Given $\\{x_i\\}_{i=1}^n$ i.i.d samples of $X \\sim \\textit{Geom}(\\theta)$, what is the MLE?\n",
    "\n",
    "Assume:\n",
    "* $f(x;\\theta) = Pr(X=x) = \\theta(1-\\theta)^{x-1}$\n",
    "* $ 0 < \\theta < 1$\n",
    "* $\\mathbb{E}(X) = \\frac{1}{\\theta}$\n",
    "* $Var(X) = \\frac{1 - \\theta}{\\theta^2}$"
   ]
  },
  {
   "cell_type": "markdown",
   "metadata": {
    "slideshow": {
     "slide_type": "subslide"
    }
   },
   "source": [
    "### <img src=\"https://img.icons8.com/dusk/64/000000/idea.png\" style=\"height:50px;display:inline\"> Solution 3\n",
    "---\n",
    "* $L(x_1, x_2, ..., x_n; \\theta) = \\prod_{i=1}^n f(x_i;\\theta) = \\theta^n (1 -\\theta)^{\\sum_{i=1}^n (x_i - 1)}$\n",
    "* $l(\\theta) = \\ln L(x_1, x_2, ..., x_n; \\theta) = \\sum_{i=1}^n \\ln f(x_i;\\theta) = n\\ln(\\theta) +\\ln (1-\\theta) \\sum_{i=1}^n (x_i - 1) $\n",
    "* $\\theta_{MLE} = \\underset{0 < \\theta < 1}{\\mathrm{argmax}} l(\\theta)$\n",
    "* First derivative: $$\\frac{\\partial l(\\theta)}{\\partial \\theta}  = \\frac{n}{\\theta} - \\frac{1}{1 - \\theta} \\sum_{i=1}^n (x_i - 1)$$"
   ]
  },
  {
   "cell_type": "markdown",
   "metadata": {
    "slideshow": {
     "slide_type": "subslide"
    }
   },
   "source": [
    "* Second derivative: $$\\frac{\\partial^2 l(\\theta)}{\\partial \\theta^2}  = -\\frac{n}{\\theta^2} - (\\frac{1}{1 - \\theta})^2 \\sum_{i=1}^n (x_i - 1)$$\n",
    "* $$ \\frac{n}{\\theta} - \\frac{1}{1 - \\theta} \\sum_{i=1}^n (x_i - 1) = 0 \\rightarrow \\theta_{MLE} = \\frac{1}{n}\\sum_{i=1}^n x_i$$"
   ]
  },
  {
   "cell_type": "markdown",
   "metadata": {
    "slideshow": {
     "slide_type": "subslide"
    }
   },
   "source": [
    "* Plug in $\\theta_{MLE}$ in the second deriviative and keep in mind that $0 < \\theta_{MLE} < 1$:\n",
    "    * $\\sum_{i=1}^n (x_i - 1) = n(\\frac{1}{\\theta_{MLE}} - 1) = n \\frac{1 - \\theta_{MLE}}{\\theta_{MLE}}$\n",
    "    * $$ -\\frac{n}{\\theta_{MLE}^2} - (\\frac{1}{1 - \\theta_{MLE}})^2 \\sum_{i=1}^n (x_i - 1) = -\\frac{n}{\\theta_{MLE}^2} - (\\frac{1}{1 - \\theta_{MLE}})^2 n \\frac{1 - \\theta_{MLE}}{\\theta_{MLE}} = ... = - \\frac{n}{\\theta_{MLE}^2(1-\\theta_{MLE})} < 0$$\n",
    "    * Since $0 < \\theta_{MLE} < 1$, we have a maximum."
   ]
  },
  {
   "cell_type": "markdown",
   "metadata": {
    "slideshow": {
     "slide_type": "subslide"
    }
   },
   "source": [
    "### <img src=\"https://img.icons8.com/bubbles/50/000000/video-playlist.png\" style=\"height:50px;display:inline\"> Recommended Videos\n",
    "---\n",
    "#### <img src=\"https://img.icons8.com/cute-clipart/64/000000/warning-shield.png\" style=\"height:30px;display:inline\"> Warning!\n",
    "* These videos do not replace the lectures and tutorials.\n",
    "* Please use these to get a better understanding of the material, and not as an alternative to the written material.\n",
    "\n",
    "#### Video By Subject\n",
    "* Basic Probability - <a href=\"https://www.youtube.com/watch?v=KzfWUEJjG18\">Math Antics - Basic Probability</a>\n",
    "* Probability for ML - <a href=\"https://www.youtube.com/watch?v=wG_gQpXJNGU\">Machine Learning 1/5: Probability</a>\n",
    "* Maximum Likelihood Estimation (MLE)\n",
    "    * Simple Version (6 min) - <a href=\"https://www.youtube.com/watch?v=XepXtl9YKwc\">StatQuest</a>\n",
    "    * Complete Lecture (50 min) - <a href=\"https://www.youtube.com/watch?v=RIawrYLVdIw&t=2263s\">Cornell CS4780</a>"
   ]
  },
  {
   "cell_type": "markdown",
   "metadata": {
    "slideshow": {
     "slide_type": "skip"
    }
   },
   "source": [
    "## <img src=\"https://img.icons8.com/dusk/64/000000/prize.png\" style=\"height:50px;display:inline\"> Credits\n",
    "---\n",
    "* Icons from <a href=\"https://icons8.com/\">Icon8.com</a> - https://icons8.com\n",
    "* Datasets from <a href=\"https://www.kaggle.com/\">Kaggle</a> - https://www.kaggle.com/"
   ]
  }
 ],
 "metadata": {
  "celltoolbar": "Slideshow",
  "kernelspec": {
   "display_name": "Python 3",
   "language": "python",
   "name": "python3"
  },
  "language_info": {
   "codemirror_mode": {
    "name": "ipython",
    "version": 3
   },
   "file_extension": ".py",
   "mimetype": "text/x-python",
   "name": "python",
   "nbconvert_exporter": "python",
   "pygments_lexer": "ipython3",
   "version": "3.8.2"
  }
 },
 "nbformat": 4,
 "nbformat_minor": 2
}
